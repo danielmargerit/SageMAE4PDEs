{
 "cells": [
  {
   "cell_type": "markdown",
   "metadata": {},
   "source": [
    "# Symbolic calculus for deriving CT (Callegari and Ting) equations. Summary"
   ]
  },
  {
   "cell_type": "markdown",
   "metadata": {},
   "source": [
    "We use here the symbolic capabilities of SageMath to rederive the expansion in $\\epsilon$ of the fluid mechanics equations for a slender vortex filament written in the CT (by Callegari and Ting) curvilinear coordinates. It is also extended to the case of buoyancy in Boussinesq approximation. Using symbolic capabilities alleviate the difficult (but straightforward step) of expanding the equations. Such a kind of use of symbolic calculus was already done in D. Margerit PhD thesis (1998) with the Mapple symbolic tool. This should allow you to avoid making mistakes when deriving those expansions or when writing the equations in latex for a writing paper. This can avoid having typos in those papers."
   ]
  },
  {
   "cell_type": "markdown",
   "metadata": {},
   "source": [
    "## 1) Definitions of needed CT curvilinear coordinates"
   ]
  },
  {
   "cell_type": "markdown",
   "metadata": {},
   "source": [
    "Curve: $\\mathbf{X}(s,t)$"
   ]
  },
  {
   "cell_type": "markdown",
   "metadata": {},
   "source": [
    "**Frenet frame** \n",
    "$$(\\hat{\\boldsymbol{\\tau}},\\mathbf{{\\hat{n}}},\\mathbf{{\\hat{b}}})$$"
   ]
  },
  {
   "cell_type": "markdown",
   "metadata": {},
   "source": [
    "The Frenet formulas\n",
    "$$\\frac{\\partial{\\mathbf{X}(s,t)}}{\\partial s} = \\sigma \\hat{\\boldsymbol{\\tau}}$$\n",
    "$$\\frac{\\partial{\\hat{\\boldsymbol{\\tau}}}}{\\partial s} = \\sigma \\mathcal{K} \\mathbf{{\\hat{n}}}$$\n",
    "$$\\frac{\\partial{\\hat{\\boldsymbol{n}}}}{\\partial s} = \\sigma (\\mathcal{T} \\mathbf{{\\hat{b}}} - \\mathcal{K} \\hat{\\boldsymbol{\\tau}} ) $$\n",
    "$$\\frac{\\partial{\\hat{\\boldsymbol{b}}}}{\\partial s} = - \\sigma \\mathcal{T} \\mathbf{{\\hat{n}}} $$\n",
    "$$\\hat{\\boldsymbol{b}} = \\hat{\\boldsymbol{\\tau}}\\times \\hat{\\boldsymbol{n}} $$"
   ]
  },
  {
   "cell_type": "markdown",
   "metadata": {},
   "source": [
    "In addition, we require that\n",
    "$$\\dot{\\mathbf{X}}\\cdot\\hat{ \\tau} = 0$$\n",
    "so that the filament core forms a material curve."
   ]
  },
  {
   "cell_type": "markdown",
   "metadata": {},
   "source": [
    "Remark: Let's remark that $$\\dot{\\mathbf{X}}_s\\cdot\\hat{ \\tau}= \\dot{\\sigma}$$\n",
    "as $\\hat{\\tau} \\cdot \\hat{\\tau}=0$ gives $2\\dot{\\hat{ \\tau}} \\cdot \\hat{ \\tau}=0$ and $\\mathbf{X}_s= {\\sigma}\\hat{ \\tau}$"
   ]
  },
  {
   "cell_type": "markdown",
   "metadata": {},
   "source": [
    "**Polar vectors and polar coordinates**\n",
    "$$\\hat{\\mathbf{r}}(\\varphi,s,t) = \\mathbf{{\\hat{n}}}(s,t) \\cos(\\varphi) + \\mathbf{{\\hat{b}}}(s,t) \\sin(\\varphi)$$ \n",
    "$$\\hat{\\mathbf{\\theta}}(\\varphi,s,t) =  -\\mathbf{{\\hat{n}}}(s,t) \\sin(\\varphi) + \\mathbf{{\\hat{b}}}(s,t) \\cos(\\varphi) $$"
   ]
  },
  {
   "cell_type": "markdown",
   "metadata": {},
   "source": [
    "The change of coordinates\n",
    "$$\\boldsymbol{x}(x,y,z,t) = \\boldsymbol{x}(r,\\varphi,s,t) = \\mathbf{X}(s,t)+r\\hat{\\mathbf{r}}(\\varphi,s,t)$$\n"
   ]
  },
  {
   "cell_type": "markdown",
   "metadata": {},
   "source": [
    "Also if we derive $\\dot{\\mathbf{X}}\\cdot\\hat{ \\tau} = 0$ with $s$:\n",
    "$$\\dot{\\mathbf{X}}_s\\cdot\\hat{ \\tau} +  \\dot{\\mathbf{X}}\\cdot\\hat{ \\tau}_s  = 0$$\n",
    "$$ \\dot{\\mathbf{X}}\\cdot \\mathbf{{\\hat{n}}}  = -\\dot{\\sigma}/(\\sigma \\mathcal{K})$$"
   ]
  },
  {
   "cell_type": "markdown",
   "metadata": {},
   "source": [
    "**The time derivative**\n",
    "\n",
    "$$\\left(\\frac{\\partial f}{\\partial t} \\right)_{(r,\\varphi,s)} = \\left(\\frac{\\partial}{\\partial t} \\right)_{(x,y,z)}  + \\boldsymbol{v}_{\\text{E}} \\cdot  \\mathbf{\\nabla} f $$\n",
    "where \n",
    "$$\\boldsymbol{v}_{\\text{E}}=  \\left(\\frac{\\partial \\boldsymbol{x}}{\\partial t} \\right)_{(r,\\varphi,s)} = \\dot{\\mathbf{X}}(s,t)+r \\left(\\frac{\\partial \\hat{\\mathbf{r}}}{\\partial t}\\right)_{(r,\\varphi,s)}$$\n",
    "It comes \n",
    "$$\\left(\\frac{\\partial f}{\\partial t} \\right)_{(x,y,z)} = \\left(\\frac{\\partial f}{\\partial t} \\right)_{(r,\\varphi,s)}   - \\boldsymbol{v}_{\\text{E}} \\cdot  \\mathbf{\\nabla} f $$\n",
    "with \n",
    "$$\\boldsymbol{v}_{\\text{E}}= \\dot{\\mathbf{X}}(s,t)+r \\left(\\frac{\\partial \\hat{\\mathbf{r}}}{\\partial t}\\right)_{(r,\\varphi,s)}$$"
   ]
  },
  {
   "cell_type": "markdown",
   "metadata": {},
   "source": [
    "We define the relative velocity $\\mathbf{V}$ such that $\\boldsymbol{v} = \\dot{\\mathbf{X}}(s,t) + \\mathbf{V}$"
   ]
  },
  {
   "cell_type": "markdown",
   "metadata": {},
   "source": [
    "$V = (u,v,w)$ on $(\\hat{\\mathbf{r}},\\hat{\\mathbf{\\theta}},\\hat{ \\tau})$"
   ]
  },
  {
   "cell_type": "markdown",
   "metadata": {},
   "source": [
    "We have\n",
    "$$\\left(\\frac{\\partial f}{\\partial t} \\right)_{(x,y,z)} + \\boldsymbol{v} \\cdot  \\mathbf{\\nabla}f =  \\left(\\frac{\\partial f}{\\partial t} \\right)_{(r,\\varphi,s)}  + \\boldsymbol{v}_{\\text{R}}  \\cdot  \\mathbf{\\nabla}f $$\n",
    "where \n",
    "$$\\boldsymbol{v}_{\\text{R}} = \\boldsymbol{v}- \\boldsymbol{v}_{\\text{e}} =\\mathbf{V} - r \\left(\\frac{\\partial \\hat{\\mathbf{r}}}{\\partial t}\\right)_{(r,\\varphi,s)}$$\n",
    "as\n",
    "$$\\boldsymbol{v}- \\boldsymbol{v}_{\\text{e}}=  \\dot{\\mathbf{X}}(s,t) + \\mathbf{V} - [\\dot{\\mathbf{X}}(s,t)+r \\left(\\frac{\\partial \\hat{\\mathbf{r}}}{\\partial t}\\right)_{(r,\\varphi,s)}] = \\mathbf{V} - r \\left(\\frac{\\partial \\hat{\\mathbf{r}}}{\\partial t}\\right)_{(r,\\varphi,s)} $$\n"
   ]
  },
  {
   "cell_type": "markdown",
   "metadata": {},
   "source": [
    "**Spatial derivative operators**"
   ]
  },
  {
   "cell_type": "markdown",
   "metadata": {},
   "source": [
    "The metric $$h_3=\\sigma(1- r \\mathcal{K} \\cos(\\varphi))$$"
   ]
  },
  {
   "cell_type": "markdown",
   "metadata": {},
   "source": [
    "The metric $(r,\\varphi,s)$ is not orthogonal. An associated orthogonal metric is $(r,\\theta,s)$ where $\\theta = \\varphi-\\theta_0(s,t)$ and $d\\theta_0 = - \\sigma \\mathcal{T}ds$.\n",
    "Differential operators formula are simpler in orthogonal metric and so will be introduced based on $(r,\\theta,s)$. However we will come back to the natural coordinates $(r,\\varphi,s)$ based on the following transformation:\n",
    "$$\\left(\\frac{\\partial}{\\partial s} \\right)_\\theta = \\left(\\frac{\\partial}{\\partial s} \\right)_\\varphi  - \\sigma \\mathcal{T} \\frac{\\partial}{\\partial \\varphi}$$"
   ]
  },
  {
   "cell_type": "markdown",
   "metadata": {},
   "source": [
    "The natural coordinates $(r,\\varphi,s)$ are better to do the expansions in $\\epsilon$ so as to not need to expand $\\varphi$ in $\\epsilon$ as  $\\varphi$ will appear in $\\cos \\varphi$ and $\\sin \\varphi$"
   ]
  },
  {
   "cell_type": "markdown",
   "metadata": {},
   "source": [
    "The divergence operator of a vector\n",
    "$$div (V) = \\mathbf{\\nabla} \\cdot V = \\frac{1}{r h_3} \\left[ \\frac{\\partial (r h_3 u)}{\\partial r}\n",
    "                              +\\frac{\\partial (h_3 v)}{\\partial \\theta}\n",
    "                              +r\\frac{\\partial w}{\\partial s}  \\right ]$$ "
   ]
  },
  {
   "cell_type": "markdown",
   "metadata": {},
   "source": [
    "The gradient operator of a scalar\n",
    "$$grad (p) = \\mathbf{\\nabla} p= \\left[ \\frac{\\partial p}{\\partial r},\n",
    "                              \\frac{1}{r} \\frac{\\partial p}{\\partial \\theta},\n",
    "                              \\frac{1}{h_3} \\frac{\\partial p}{\\partial s}  \\right ]$$"
   ]
  },
  {
   "cell_type": "markdown",
   "metadata": {},
   "source": [
    "Laplacian of a scalar field $\\Delta T$\n",
    "$$\\Delta T= \\mathbf{\\nabla}^2 T = \\frac{1}{rh_3} \\left[ \\frac{\\partial \\left(r h_3\\frac{\\partial T}{\\partial r} \\right)}{\\partial r}  + \\frac{\\partial \\left( \\frac{h_3}{r}\\frac{\\partial T}{\\partial \\theta} \\right)}{\\partial \\theta}  + \\frac{\\partial \\left( \\frac{r}{h_3}\\frac{\\partial T}{\\partial s} \\right)}{\\partial s} \\right]$$"
   ]
  },
  {
   "cell_type": "markdown",
   "metadata": {},
   "source": [
    "Gradient of a vector field $\\mathbf{\\nabla} V$\n",
    "$$\\mathbf{\\nabla} V = \n",
    "\\begin{pmatrix}\n",
    "t_1^1 & t_2^1 & t_3^1\\\\\n",
    "t_1^2 & t_2^2 & t_3^2\\\\\n",
    "t_1^3 & t_2^3 & t_3^3\n",
    "\\end{pmatrix}\n",
    "$$ \n",
    "where \n",
    "$$\n",
    "t_1^1 = \\frac{\\partial u}{\\partial r} \\\\\n",
    "t_2^2 = \\frac{1}{r} \\frac{\\partial v}{\\partial \\theta} + \\frac{u}{r} \\\\\n",
    "t_3^3 = \\frac{1}{h_3} \\frac{\\partial w}{\\partial s} + \\frac{u}{h_3}\\frac{\\partial h_3}{\\partial r} + \\frac{v}{r h_3} \\frac{\\partial h_3}{\\partial \\theta}  \\\\\n",
    "t_2^1 = \\frac{1}{r} \\frac{\\partial u}{\\partial \\theta}- \\frac{v}{r}  \\\\\n",
    "t_3^1 = \\frac{1}{h_3} \\frac{\\partial u}{\\partial s}- \\frac{w}{h_3}\\frac{\\partial h_3}{\\partial r}   \\\\\n",
    "t_1^2 =  \\frac{\\partial v}{\\partial r}  \\\\\n",
    "t_3^2 = \\frac{1}{h_3} \\frac{\\partial v}{\\partial s}- \\frac{w}{r h_3}\\frac{\\partial h_3}{\\partial \\theta}   \\\\\n",
    "t_1^3 =  \\frac{\\partial w}{\\partial r}   \\\\\n",
    "t_2^3 = \\frac{1}{r} \\frac{\\partial w}{\\partial \\theta}\n",
    "$$"
   ]
  },
  {
   "cell_type": "markdown",
   "metadata": {},
   "source": [
    "The dot product (or inner product) $\\mathbf{\\nabla} V \\cdot V$ \n",
    "$$\\mathbf{\\nabla} V \\cdot V = \\\\\n",
    "[t_1^1 u + t_2^1 v + t_3^1 w,\\\\ \n",
    "t_1^2 u + t_2^2 v + t_3^2 w,\\\\\n",
    "t_1^3 u + t_2^3 v + t_3^3 w]\n",
    "$$ "
   ]
  },
  {
   "cell_type": "markdown",
   "metadata": {},
   "source": [
    "The curl of a vector field $$\\mathbf{\\nabla} \\times V$$\n",
    "$$\\mathbf{\\nabla} \\times V = \\left[\n",
    "\\frac{1}{r h_3} \\left(\\frac{\\partial (h_3 w)}{\\partial \\theta} -  r \\frac{\\partial v}{\\partial s} \\right),\n",
    "\\frac{1}{h_3} \\left(\\frac{\\partial u}{\\partial s} -  \\frac{\\partial (h_3 w)}{\\partial r} \\right),\n",
    "\\frac{1}{r} \\left(\\frac{\\partial (r v)}{\\partial r} -  \\frac{\\partial u}{\\partial \\theta} \\right)\n",
    "\\right]$$ "
   ]
  },
  {
   "cell_type": "markdown",
   "metadata": {},
   "source": [
    "Laplacian of a vector field $\\Delta V$ \n",
    "\n",
    " https://fr.wikipedia.org/wiki/Op%C3%A9rateur_laplacien_vectoriel\n",
    "$$\\Delta V = \\mathbf{\\nabla} \\times (-\\Omega)  $$ with $$\\Omega = \\mathbf{\\nabla} \\times V$$\n",
    "We can see it from\n",
    "$$\\Delta V = \\mathbf{\\nabla}(\\mathbf{\\nabla} \\cdot V) - \\mathbf{\\nabla} \\times (\\mathbf{\\nabla} \\times V)\\\\\n",
    "           = - \\mathbf{\\nabla} \\times (\\mathbf{\\nabla} \\times V).$$ \n",
    "  \n",
    "So we apply twice the above $\\mathbf{\\nabla} \\times $ formula: a first time with $V$ to get $\\Omega$ and then  with $-\\Omega$.\n",
    " \n",
    "See  https://onlinelibrary.wiley.com/doi/pdf/10.1002/9781118127575.app1 A.13.4"
   ]
  },
  {
   "cell_type": "markdown",
   "metadata": {},
   "source": [
    "## 2) Expansions in epsilon parameter"
   ]
  },
  {
   "cell_type": "markdown",
   "metadata": {},
   "source": [
    "$\\bar{r}=r/\\epsilon$"
   ]
  },
  {
   "cell_type": "markdown",
   "metadata": {},
   "source": [
    "Let $f_c$ and $f_a$ be the symmetrical part and asymmetrical part of $f=f_c+f_a$. "
   ]
  },
  {
   "cell_type": "markdown",
   "metadata": {},
   "source": [
    "Symmetrical and Asymmetrical part of a field f\n",
    "$$f(\\bar{r}, \\varphi, s,t) = f_c(\\bar{r}, s,t) + f_a(\\bar{r}, \\varphi, s,t)$$"
   ]
  },
  {
   "cell_type": "markdown",
   "metadata": {},
   "source": [
    "$$u(\\bar{r}, \\varphi, s,t ; \\epsilon)  = u^{(1)}(\\bar{r}, \\varphi, s,t ) + \\epsilon u^{(2)}(\\bar{r}, \\varphi, s,t ) + \\cdots $$\n",
    "$$v(\\bar{r}, \\varphi, s,t ; \\epsilon) = \\epsilon^{-1}v^{(0)}(\\bar{r}, \\varphi, s,t ) +  v^{(1)}(\\bar{r}, \\varphi, s,t ) + \\cdots$$\n",
    "$$w(\\bar{r}, \\varphi, s,t ; \\epsilon) =\\epsilon^{-1}w^{(0)}(\\bar{r}, \\varphi, s,t ) +  w^{(1)}(\\bar{r}, \\varphi, s,t ) + \\cdots $$\n",
    "$$P(\\bar{r}, \\varphi, s,t ; \\epsilon)  =  \\epsilon^{-2}P^{(0)}(\\bar{r}, \\varphi, s,t) + \\epsilon^{-1} P^{(1)}(\\bar{r}, \\varphi, s,t ) + \\cdots $$\n",
    "$$\\tilde{T} = T-T_0 = \\tilde{T}(\\bar{r},\\varphi,s,t;\\epsilon) = \\tilde{T}^{(0)}(\\bar{r},\\varphi,s,t) + \\epsilon \\tilde{T}^{(1)}(\\bar{r},\\varphi,s,t) + \\cdots$$"
   ]
  },
  {
   "cell_type": "markdown",
   "metadata": {},
   "source": [
    "$$\\mathbf{X}(s,t;\\epsilon) = \\mathbf{X}^{(0)}(s,t) + \\epsilon\\mathbf{X}^{(1)}(s,t)  + \\cdots $$\n",
    "$$\\sigma =\\sigma^{(0)} + \\epsilon\\sigma^{(1)} + \\cdots$$\n",
    "$$\\mathcal{K} = \\mathcal{K} ^{(0)} + \\epsilon \\mathcal{K} ^{(1)} +\\cdots $$\n",
    "$$\\mathcal{T}  = \\mathcal{T}^{(0)} + \\epsilon \\mathcal{T}^{(1)} +\\cdots $$\n",
    "$$h_3 = h_3^{(0)} + \\epsilon h_3^{(1)} +\\cdots$$"
   ]
  },
  {
   "cell_type": "markdown",
   "metadata": {},
   "source": [
    "We also have :\n",
    "$$z_{r}(\\theta, s,t ; \\epsilon)  = z_{r}^{(0)}(\\theta, s,t ) + \\epsilon z_{r}^{(1)}(\\theta, s,t ) + \\cdots $$\n",
    "$$z_{\\theta}(\\theta, s,t ; \\epsilon)  = z_{\\theta}^{(0)}(\\theta, s,t ) + \\epsilon z_{\\theta}^{(1)}(\\theta, s,t ) + \\cdots $$\n",
    "$$z_{\\tau}(s,t ; \\epsilon)  = z_{\\tau}^{(0)}(s,t ) + \\epsilon z_{\\tau}^{(1)}( s,t ) + \\cdots $$\n",
    "$$z_\\text{n}(s,t ; \\epsilon)  = z_\\text{n}^{(0)}(s,t ) + \\epsilon z_\\text{n}^{(1)}( s,t ) + \\cdots$$\n",
    "$$z_\\text{b}(s,t ; \\epsilon)  = z_\\text{b}^{(0)}(s,t ) + \\epsilon z_\\text{b}^{(1)}( s,t ) + \\cdots$$\n",
    "\n",
    "and \n",
    "\n",
    "$${\\cal{H}}=\\epsilon^{-2}{\\cal{H}}^{(0)}+\\epsilon^{-1} {\\cal{H}}^{(1)} + \\cdots$$\n",
    "$$\\mathcal{Z}_c^{(0)}(s,t) = \\mathcal{Z}_c^{(0)}(s,t)  + \\epsilon \\mathcal{Z}_c^{(1)}(s,t) +\\cdots $$"
   ]
  },
  {
   "cell_type": "markdown",
   "metadata": {},
   "source": [
    "We point out that  $$u^{(0)}=0$$"
   ]
  },
  {
   "cell_type": "markdown",
   "metadata": {},
   "source": [
    "## 3) The continuity equation"
   ]
  },
  {
   "cell_type": "markdown",
   "metadata": {},
   "source": [
    "The continuity equation is\n",
    "$$div (\\boldsymbol{v}) = \\mathbf{\\nabla} \\cdot \\boldsymbol{v} = 0$$"
   ]
  },
  {
   "cell_type": "markdown",
   "metadata": {},
   "source": [
    "In the local coordinates this equation is\n",
    "$$rh_3 div (V) + r\\left(\\dot{\\mathbf{X}}_s\\cdot\\hat{ \\tau}\\right)= 0$$"
   ]
  },
  {
   "cell_type": "markdown",
   "metadata": {},
   "source": [
    "$$\\left(rh_3 u\\right)_{r} + \\left(h_3 v\\right)_\\theta + r w_s+r\\left(\\dot{\\mathbf{X}}_s\\cdot\\hat{ \\tau}\\right)= 0 $$"
   ]
  },
  {
   "cell_type": "markdown",
   "metadata": {},
   "source": [
    "**Main equation**\n",
    "\n",
    "To have an $O(1)$ term at leading order, we indeed will expand the following equation\n",
    "$$ \\epsilon \\left[\\left(rh_3 u\\right)_{r} + \\left(h_3 v\\right)_\\theta + r w_s\\right] + r \\epsilon  \\left(\\dot{\\mathbf{X}}_s\\cdot\\hat{ \\tau}\\right) = 0 $$"
   ]
  },
  {
   "cell_type": "markdown",
   "metadata": {},
   "source": [
    "# 4) The internal energy equation"
   ]
  },
  {
   "cell_type": "markdown",
   "metadata": {},
   "source": [
    "The internal energy equation is\n",
    "$$\\left(\\frac{\\partial T}{\\partial t} \\right)_{(x,y,z)} + \\boldsymbol{v} \\cdot \\nabla T =  \\epsilon^2 \\bar{\\eta}\\Delta T$$\n",
    "where $\\bar{\\eta}=\\frac{\\bar{\\nu}}{\\bar{\\mu}}$."
   ]
  },
  {
   "cell_type": "markdown",
   "metadata": {},
   "source": [
    "In the local coordinates this equation is\n",
    "$$\\left(\\frac{\\partial T}{\\partial t} \\right)_{(r,\\varphi,s)} + \\boldsymbol{v}_{\\text{R}} \\cdot \\nabla T =  \\epsilon^2 \\bar{\\eta}\\Delta T$$\n",
    "where $\\bar{\\eta}=\\frac{\\bar{\\nu}}{\\bar{\\mu}}$."
   ]
  },
  {
   "cell_type": "markdown",
   "metadata": {},
   "source": [
    "Here we have used \n",
    "$$\\left(\\frac{\\partial T}{\\partial t} \\right)_{(x,y,z)} + \\boldsymbol{v} \\cdot  \\mathbf{\\nabla}T =  \\left(\\frac{\\partial T}{\\partial t} \\right)_{(r,\\varphi,s)}  + \\boldsymbol{v}_{\\text{R}}  \\cdot  \\mathbf{\\nabla}T $$\n",
    "where \n",
    "$$\\boldsymbol{v}_{\\text{R}} = \\boldsymbol{v}- \\boldsymbol{v}_{\\text{e}} =\\mathbf{V} - r \\left(\\frac{\\partial \\hat{\\mathbf{r}}}{\\partial t}\\right)_{(r,\\varphi,s)}$$"
   ]
  },
  {
   "cell_type": "markdown",
   "metadata": {},
   "source": [
    "**Main equation**\n",
    "\n",
    "To have an $O(1)$ term at leading order, we indeed will expand the following equation\n",
    "$$\\epsilon^2 \\frac{\\partial T}{\\partial t} + \\left(\\epsilon^2 \\mathbf{V} - \\epsilon^2 r\\frac{\\partial \\hat{\\mathbf{r}}}{\\partial t}\\right)\\cdot \\nabla T =  \\epsilon^4 \\bar{\\eta}\\Delta T$$"
   ]
  },
  {
   "cell_type": "markdown",
   "metadata": {},
   "source": [
    "# 5.1) The NS equation in Boussinesq Approximation (Buoyancy)"
   ]
  },
  {
   "cell_type": "markdown",
   "metadata": {},
   "source": [
    "The NS momentum equation in Boussinesq approximation is\n",
    "$$ \\left(\\frac{\\partial \\boldsymbol{v}}{\\partial t} \\right)_{(x,y,z)} + \\boldsymbol{v} \\cdot \\mathbf{\\nabla} \\boldsymbol{v}=  -  \\mathbf{\\nabla} p + \\bar{\\nu} \\epsilon^2 \\Delta \\boldsymbol{v} - \\epsilon^{-2} \\alpha \\tilde{T} \\hat{z}$$"
   ]
  },
  {
   "cell_type": "markdown",
   "metadata": {},
   "source": [
    "In the local coordinates this equation is\n",
    "$$ \\ddot{\\mathbf{X}} + (\\frac{w}{h_3}-\\frac{r}{h_3}\\hat{\\mathbf{r}}_t\\cdot \\hat{ \\tau}) \\dot{\\mathbf{X}}_s + \\frac{d\\mathbf{V}}{dt} = - \\mathbf{\\nabla} p + \\bar{\\nu} \\epsilon^2 \\left(\\frac{1}{h_3}\\left(\\frac{1}{h_3}\\dot{\\mathbf{X}}_s\\right)_s + \\Delta \\mathbf{V}\\right) - \\epsilon^{-2} \\alpha \\tilde{T}\\hat{z}$$\n",
    "where \n",
    "$$\\frac{d\\mathbf{V}}{dt} = \\left(\\frac{\\partial \\mathbf{V}}{\\partial t} \\right)_{(r,\\varphi,s)} + \\left(\\mathbf{V} - r\\frac{\\partial \\hat{\\mathbf{r}}}{\\partial t}\\right) \\cdot \\mathbf{\\nabla} \\mathbf{V}  $$\n",
    "$$\\alpha = -\\beta $$\n",
    "$$\\hat{z} = -\\hat{g}/\\bar{\\lambda}^2$$"
   ]
  },
  {
   "cell_type": "markdown",
   "metadata": {},
   "source": [
    "$$\\mathbf{V}= u \\hat{\\mathbf{r}} + v \\hat{\\boldsymbol{\\theta}} + w \\hat{ \\tau} $$\n",
    "$$\\hat{\\mathbf{z}}= z_\\text{t} \\hat{\\boldsymbol{\\tau}} + z_\\text{n} \\hat{\\mathbf{n}} + z_\\text{b} \\hat{\\mathbf{b}} $$\n",
    "$$\\hat{\\mathbf{z}}= z_\\text{t} \\hat{\\boldsymbol{\\tau}}  + z_{r} \\hat{\\mathbf{r}} + z_{\\theta} \\hat{\\boldsymbol{\\theta}} $$"
   ]
  },
  {
   "cell_type": "markdown",
   "metadata": {},
   "source": [
    "$$\\left(\\frac{\\partial \\mathbf{V}}{\\partial t} \\right)_{(r,\\varphi,s)} = \n",
    "\\left(\\frac{\\partial u}{\\partial t} \\right)_{(r,\\varphi,s)} \\hat{\\mathbf{r}} \n",
    "+ \\left(\\frac{\\partial v}{\\partial t} \\right)_{(r,\\varphi,s)} \\hat{\\boldsymbol{\\theta}}\n",
    "+ \\left(\\frac{\\partial w}{\\partial t} \\right)_{(r,\\varphi,s)}\\hat{ \\tau}\\\\\n",
    "+ u \\left(\\frac{\\partial \\hat{\\mathbf{r}}}{\\partial t} \\right)_{(r,\\varphi,s)}  \n",
    "+ v\\left(\\frac{\\partial \\hat{\\boldsymbol{\\theta}}}{\\partial t} \\right)_{(r,\\varphi,s)}  \n",
    "+ w \\left(\\frac{\\partial \\hat{ \\tau}}{\\partial t} \\right)_{(r,\\varphi,s)}\n",
    "$$"
   ]
  },
  {
   "cell_type": "markdown",
   "metadata": {},
   "source": [
    "$$z_{r}=z_\\text{n}(s,t)\\cos(\\varphi) + z_\\text{b}(s,t) \\sin(\\varphi)$$\n",
    "$$z_{\\theta}=-z_\\text{n}(s,t)\\sin(\\varphi) + z_\\text{b}(s,t) \\cos(\\varphi)$$"
   ]
  },
  {
   "cell_type": "markdown",
   "metadata": {},
   "source": [
    "Here we have used \n",
    "$$\\left(\\frac{\\partial \\boldsymbol{v}}{\\partial t} \\right)_{(x,y,z)} + \\boldsymbol{v} \\cdot \\mathbf{\\nabla} \\boldsymbol{v} =  \\left(\\frac{\\partial \\boldsymbol{v}}{\\partial t} \\right)_{(r,\\varphi,s)}  + \\boldsymbol{v}_{\\text{R}} \\cdot \\mathbf{\\nabla} \\boldsymbol{v} $$\n",
    "where \n",
    "$$\\boldsymbol{v}_{\\text{R}} = \\boldsymbol{v}- \\boldsymbol{v}_{\\text{e}} =\\mathbf{V} - r \\left(\\frac{\\partial \\hat{\\mathbf{r}}}{\\partial t}\\right)_{(r,\\varphi,s)}$$\n",
    "And as $\\boldsymbol{v} = \\dot{\\mathbf{X}}(s,t) + \\mathbf{V}$\n",
    "$$\\left(\\frac{\\partial \\boldsymbol{v}}{\\partial t} \\right)_{(x,y,z)} + \\boldsymbol{v} \\cdot \\mathbf{\\nabla} \\boldsymbol{v} = \\ddot{\\mathbf{X}} + \\left(\\frac{\\partial \\mathbf{V}}{\\partial t} \\right)_{(r,\\varphi,s)}+ \\boldsymbol{v}_{\\text{R}}  \\cdot \\mathbf{\\nabla} \\mathbf{V}+ \\boldsymbol{v}_{\\text{R}} \\cdot \\mathbf{\\nabla} {\\dot{\\mathbf{X}}}$$"
   ]
  },
  {
   "cell_type": "markdown",
   "metadata": {},
   "source": [
    "**Main equation**\n",
    "\n",
    "To have an $O(1)$ term at leading order, we indeed will expand the following equation\n",
    "$$ \\epsilon^3 \\ddot{\\mathbf{X}} + \\epsilon^3 (\\frac{w}{h_3}-\\frac{r}{h_3}\\hat{\\mathbf{r}}_t\\cdot \\hat{ \\tau}) \\dot{\\mathbf{X}}_s + \\epsilon^3 \\frac{d\\mathbf{V}}{dt} = - \\epsilon^3 \\mathbf{\\nabla} p + \\bar{\\nu} \\epsilon^5 \\left(\\frac{1}{h_3}\\left(\\frac{1}{h_3}\\dot{\\mathbf{X}}_s\\right)_s + \\Delta \\mathbf{V}\\right) - \\epsilon \\alpha \\tilde{T}\\hat{z}$$\n",
    "where\n",
    "$$\\epsilon^3 \\frac{d\\mathbf{V}}{dt} = \\epsilon^3 \\left(\\frac{\\partial \\mathbf{V}}{\\partial t} \\right)_{(r,\\varphi,s)} + \\epsilon^3 \\left(\\mathbf{V} -  r\\frac{\\partial \\hat{\\mathbf{r}}}{\\partial t}\\right) \\cdot \\mathbf{\\nabla} \\mathbf{V}  $$"
   ]
  },
  {
   "cell_type": "markdown",
   "metadata": {},
   "source": [
    "The vorticity is given by:\n",
    "$$\\boldsymbol{\\omega}= \\boldsymbol{\\Omega} + \\hat{\\boldsymbol{\\tau}} \\times \\frac{\\dot{\\mathbf{X}}_s}{h_3}$$ \n",
    "where \n",
    "$$\\boldsymbol{\\Omega} = \\mathbf{\\nabla} \\times V$$"
   ]
  },
  {
   "cell_type": "markdown",
   "metadata": {},
   "source": [
    "# 5.2) The kinetic energy equation in Boussinesq Approximation (Buoyancy)"
   ]
  },
  {
   "cell_type": "markdown",
   "metadata": {},
   "source": [
    "In a buoyancy fluid, in cartesian coordinates $(x,y,z)$, the function of depth $Z(z)$  is selected such that assumes $Z = z$, where $z$ is the height and $∇Z = \\hat{\\mathbf{z}}.$ We have in the total head that appears in the kinetic energy, the NS gravitational term that becomes We will have in total head  $\\alpha {\\tilde{T}} (Z − Z_0)$.\n",
    "See 2.6 in https://www.met.reading.ac.uk/~sws04rgt/publications/boussinesq_model.pdf\n",
    "\n",
    "The total head ${\\cal{H}}$ that appears in the kinetic energy equation in Boussinesq Approximation (Buoyancy) is \n",
    "\n",
    "$${\\cal{H}}= p+\\boldsymbol{v}^2/2 + \\epsilon^{-2} \\alpha \\tilde{T} \\mathcal{Z}$$ \n",
    "where $\\mathcal{Z}$ is the height and $$∇\\mathcal{Z} = \\hat{\\mathbf{z}}$$\n",
    "It comes from\n",
    "$$\\mathcal{Z}(x,y,z)= (Z - Z_0)(x,y,z)= z-z_0$$\n",
    "and  $$\\mathcal{Z}(x,y,z)= \\mathcal{Z}(z) =  z-z_0$$"
   ]
  },
  {
   "cell_type": "markdown",
   "metadata": {},
   "source": [
    "The NS momentum equation in Boussinesq approximation is\n",
    "$$ \\left(\\frac{\\partial \\boldsymbol{v}}{\\partial t} \\right)_{(x,y,z)}+ \\boldsymbol{v} \\cdot \\mathbf{\\nabla} \\boldsymbol{v}=  -  \\mathbf{\\nabla} p + \\bar{\\nu} \\epsilon^2 \\Delta \\boldsymbol{v} - \\epsilon^{-2} \\alpha \\tilde{T} \\hat{z}$$"
   ]
  },
  {
   "cell_type": "markdown",
   "metadata": {},
   "source": [
    "When multiplying with the scalar product of \\boldsymbol{v} it becomes\n",
    "$$\\left(\\frac{\\partial [\\boldsymbol{v}^2/2]}{\\partial t} \\right)_{(x,y,z)}\n",
    "=  - \\boldsymbol{v} \\cdot \\mathbf{\\nabla} [\\boldsymbol{v}^2/2 + p] + \\bar{\\nu} \\epsilon^2 \\boldsymbol{v} \\cdot \\Delta \\boldsymbol{v} - \\epsilon^{-2} \\alpha \\tilde{T}\\boldsymbol{v} \\cdot  \\hat{z}$$"
   ]
  },
  {
   "cell_type": "markdown",
   "metadata": {},
   "source": [
    "where we have used\n",
    "$$\\boldsymbol{v} \\cdot  \\mathbf{\\nabla} (\\boldsymbol{v}^2/2) =   \\boldsymbol{v} \\cdot \\mathbf{\\nabla} \\boldsymbol{v}.$$\n",
    "It comes from:\n",
    "$$\\mathbf{\\nabla} (\\boldsymbol{v}^2/2) = \\boldsymbol{v} \\cdot \\mathbf{\\nabla} \\boldsymbol{v} + \\boldsymbol{v} \\times \\boldsymbol{\\omega}$$\n",
    "$$\\boldsymbol{v} \\cdot  \\mathbf{\\nabla} (\\boldsymbol{v}^2/2) =   \\boldsymbol{v} \\cdot \\mathbf{\\nabla} \\boldsymbol{v} + \\boldsymbol{v} \\cdot  (\\boldsymbol{v} \\times \\boldsymbol{\\omega})$$\n",
    "and $$\\boldsymbol{v} \\cdot  (\\boldsymbol{v} \\times \\boldsymbol{\\omega}) = \\boldsymbol{\\omega} \\cdot (\\boldsymbol{v} \\times \\boldsymbol{v})=0$$"
   ]
  },
  {
   "cell_type": "markdown",
   "metadata": {},
   "source": [
    "Using the definition of ${\\cal{H}}$ this equation becomes the kinetic equation (in conservative form)\n",
    "$$ \\left(\\frac{\\partial {\\cal{H}}}{\\partial t} \\right)_{(x,y,z)} + \\boldsymbol{v} \\cdot \\mathbf{\\nabla} {\\cal{H}} =  \\left(\\frac{\\partial p}{\\partial t} \\right)_{(x,y,z)} + \\epsilon^2 \\bar{\\nu} \\boldsymbol{v} \\cdot \\Delta \\boldsymbol{v} + \\epsilon^{-2} \\alpha T \\left(\\frac{\\partial \\mathcal{Z}}{\\partial t} \\right)_{(x,y,z)} + \\alpha\\bar{\\eta} \\mathcal{Z}\\Delta T$$\n",
    "with $${\\cal{H}}= p+\\boldsymbol{v}^2/2 + \\epsilon^{-2} \\alpha \\tilde{T} \\mathcal{Z}$$ \n",
    "where $\\mathcal{Z}(z) =  z-z_0$ is the height and $$∇\\mathcal{Z} = \\hat{\\mathbf{z}}.$$"
   ]
  },
  {
   "cell_type": "markdown",
   "metadata": {},
   "source": [
    "Here we have used the internal energy equation to substitute the time derivative of the temperature\n",
    "$$\\left(\\frac{\\partial T}{\\partial t} \\right)_{(x,y,z)} + \\boldsymbol{v} \\cdot \\nabla T =  \\epsilon^2 \\bar{\\eta}\\Delta T.$$"
   ]
  },
  {
   "cell_type": "markdown",
   "metadata": {},
   "source": [
    "To have an $O(1)$ term at leading order, we indeed will expand the following equation\n",
    "$$ \\epsilon^3 \\left(\\frac{\\partial {\\cal{H}}}{\\partial t} \\right)_{(x,y,z)}  =  \\epsilon^3 \\left(\\frac{\\partial p}{\\partial t} \\right)_{(x,y,z)} -  \\epsilon^3 \\boldsymbol{v} \\cdot \\mathbf{\\nabla} {\\cal{H}} + \\epsilon^5 \\bar{\\nu} \\boldsymbol{v} \\cdot \\Delta \\boldsymbol{v} + \\epsilon \\alpha T \\left(\\frac{\\partial \\mathcal{Z}}{\\partial t} \\right)_{(x,y,z)} +  \\epsilon^3 \\alpha\\bar{\\eta} \\mathcal{Z}\\Delta T$$\n",
    "with $$\\epsilon^{2}{\\cal{H}}= \\epsilon^{2}p+\\epsilon^{2}\\boldsymbol{v}^2/2 + \\alpha \\tilde{T} \\mathcal{Z}$$ \n",
    "where $\\mathcal{Z}(z) =  z-z_0$ is the height and $$∇\\mathcal{Z} = \\hat{\\mathbf{z}}.$$"
   ]
  },
  {
   "cell_type": "markdown",
   "metadata": {},
   "source": [
    "In the local coordinates this equation is\n",
    "$$ \\left(\\frac{\\partial {\\cal{H}}}{\\partial t} \\right)_{(r,\\varphi,s)}  + \\boldsymbol{v}_{\\text{R}}  \\cdot \\mathbf{\\nabla}{\\cal{H}} = \\left(\\frac{\\partial p}{\\partial t} \\right)_{(r,\\varphi,s)}   - \\boldsymbol{v}_{\\text{E}} \\cdot \\mathbf{\\nabla} p + \\epsilon^2 \\bar{\\nu} [\\dot{\\mathbf{X}}(s,t) + \\mathbf{V}] \\cdot \\Delta [\\dot{\\mathbf{X}}(s,t) + \\mathbf{V}] + \\epsilon^{-2} \\alpha T \\left(\\frac{\\partial \\mathcal{Z}}{\\partial t} \\right)_{(r,\\varphi,s)}   - \\epsilon^{-2} \\alpha T\\boldsymbol{v}_{\\text{E}} \\cdot \\mathbf{\\nabla} \\mathcal{Z} + \\alpha\\bar{\\eta} \\mathcal{Z}\\Delta T$$\n",
    "with \n",
    "$$\\boldsymbol{v}_{\\text{R}}  =\\mathbf{V} - r \\left(\\frac{\\partial \\hat{\\mathbf{r}}}{\\partial t}\\right)_{(r,\\varphi,s)}$$\n",
    "$$\\boldsymbol{v}_{\\text{E}}= \\dot{\\mathbf{X}}(s,t)+r \\left(\\frac{\\partial \\hat{\\mathbf{r}}}{\\partial t}\\right)_{(r,\\varphi,s)}$$\n",
    "$${\\cal{H}}= p+[\\dot{\\mathbf{X}}(s,t) + \\mathbf{V}]^2/2 + \\epsilon^{-2} \\alpha \\tilde{T} \\mathcal{Z}$$ \n",
    "$$\\mathcal{Z}(\\bar{r},\\varphi,s,t) = \\left[\\mathbf{X}(s,t)+\\epsilon\\bar{r}\\hat{\\mathbf{r}}-\\mathbf{X}(0,t)\\right] \\cdot \\hat{\\mathbf{z}}$$\n",
    "Here $\\mathcal{Z}(\\bar{r},\\varphi,s,t)$ is the height and we have the property\n",
    "$$∇\\mathcal{Z} = \\hat{\\mathbf{z}}.$$\n",
    "The symetrical part of $\\mathcal{Z}$ is  $$\\mathcal{Z}_c(s,t) =  \\hat{\\mathbf{z}} \\cdot \\left[\\mathbf{X}(s,t)-\\mathbf{X}(0,t)\\right] = \\int_{0}^{s}\\sigma(s',t) z_\\text{t}(s',t) ds.$$ "
   ]
  },
  {
   "cell_type": "markdown",
   "metadata": {},
   "source": [
    "Let us remark $\\dot{\\mathbf{X}}\\cdot\\hat{ \\tau} = 0$"
   ]
  },
  {
   "cell_type": "markdown",
   "metadata": {},
   "source": [
    "To transform the equation, here we have used \n",
    "$$\\left(\\frac{\\partial {\\cal{H}}}{\\partial t} \\right)_{(x,y,z)} + \\boldsymbol{v} \\cdot \\mathbf{\\nabla}{\\cal{H}} =  \\left(\\frac{\\partial {\\cal{H}}}{\\partial t} \\right)_{(r,\\varphi,s)}  + \\boldsymbol{v}_{\\text{R}}  \\cdot\\mathbf{\\nabla}{\\cal{H}} $$\n",
    "$$\\left(\\frac{\\partial p}{\\partial t} \\right)_{(x,y,z)} = \\left(\\frac{\\partial p}{\\partial t} \\right)_{(r,\\varphi,s)}   - \\boldsymbol{v}_{\\text{E}} \\cdot\\mathbf{\\nabla} p $$\n",
    "$$\\left(\\frac{\\partial \\mathcal{Z}}{\\partial t} \\right)_{(x,y,z)} = \\left(\\frac{\\partial \\mathcal{Z}}{\\partial t} \\right)_{(r,\\varphi,s)}   - \\boldsymbol{v}_{\\text{E}} \\cdot\\mathbf{\\nabla} \\mathcal{Z} $$\n",
    "where \n",
    "$$\\boldsymbol{v}_{\\text{R}}  =\\mathbf{V} - r \\left(\\frac{\\partial \\hat{\\mathbf{r}}}{\\partial t}\\right)_{(r,\\varphi,s)}$$\n",
    "$$\\boldsymbol{v}_{\\text{E}}= \\dot{\\mathbf{X}}(s,t)+r \\left(\\frac{\\partial \\hat{\\mathbf{r}}}{\\partial t}\\right)_{(r,\\varphi,s)}$$\n",
    "$$\\boldsymbol{v} = \\dot{\\mathbf{X}}(s,t) + \\mathbf{V}$$"
   ]
  },
  {
   "cell_type": "markdown",
   "metadata": {},
   "source": [
    "To give expressions of $\\mathcal{Z}$ in local coordinates, here we have used:\n",
    "$$z=\\boldsymbol{x}(x,y,z,t)\\cdot \\hat{\\mathbf{z}}$$ \n",
    "with $ \\boldsymbol{x}(r,\\varphi,s,t) = \\mathbf{X}(s,t)+r\\hat{\\mathbf{r}}(\\varphi,s,t)$\n",
    "\n",
    "and so \n",
    "$$ \\mathcal{Z}(\\bar{r},\\varphi,s,t) = z-z_0 = \\left[\\mathbf{X}(s,t)+\\epsilon\\bar{r}\\hat{\\mathbf{r}}-\\mathbf{X}(0,t)\\right] \\cdot \\hat{\\mathbf{z}}$$"
   ]
  },
  {
   "cell_type": "markdown",
   "metadata": {},
   "source": [
    "**Main equation**\n",
    "\n",
    "To have an $O(1)$ term at leading order, we write\n",
    "$$ \\epsilon^4 \\left(\\frac{\\partial {\\cal{H}}}{\\partial t} \\right)_{(r,\\varphi,s)}  + \\epsilon^4 \\boldsymbol{v}_{\\text{R}}  \\cdot \\mathbf{\\nabla}{\\cal{H}} = \\epsilon^4 \\left(\\frac{\\partial p}{\\partial t} \\right)_{(r,\\varphi,s)}   - \\epsilon^4 \\boldsymbol{v}_{\\text{E}} \\cdot \\mathbf{\\nabla} p + \\epsilon^6 \\bar{\\nu} [\\dot{\\mathbf{X}}(s,t) + \\mathbf{V}] \\cdot \\Delta [\\dot{\\mathbf{X}}(s,t) + \\mathbf{V}] +   \\epsilon^2 \\alpha T \\left(\\frac{\\partial \\mathcal{Z}}{\\partial t} \\right)_{(r,\\varphi,s)}   - \\epsilon^2  \\alpha T\\boldsymbol{v}_{\\text{E}} \\cdot \\mathbf{\\nabla} \\mathcal{Z} + \\epsilon^4 \\alpha\\bar{\\eta} \\mathcal{Z}\\Delta T$$\n",
    "with \n",
    "$$\\boldsymbol{v}_{\\text{R}}  =\\mathbf{V} - r \\left(\\frac{\\partial \\hat{\\mathbf{r}}}{\\partial t}\\right)_{(r,\\varphi,s)}$$\n",
    "$$\\boldsymbol{v}_{\\text{E}}= \\dot{\\mathbf{X}}(s,t)+r \\left(\\frac{\\partial \\hat{\\mathbf{r}}}{\\partial t}\\right)_{(r,\\varphi,s)}$$\n",
    "$$\\epsilon^{2} {\\cal{H}}= \\epsilon^{2}  p+\\epsilon^{2}  [\\dot{\\mathbf{X}}(s,t) + \\mathbf{V}]^2/2 +  \\alpha \\tilde{T} \\mathcal{Z}$$ \n",
    "$$\\mathcal{Z}(\\bar{r},\\varphi,s,t) = \\left[\\mathbf{X}(s,t)+\\epsilon\\bar{r}\\hat{\\mathbf{r}}-\\mathbf{X}(0,t)\\right] \\cdot \\hat{\\mathbf{z}}$$\n",
    "Here $\\mathcal{Z}(\\bar{r},\\varphi,s,t)$ is the height and we have the property\n",
    "$$∇\\mathcal{Z} = \\hat{\\mathbf{z}}.$$"
   ]
  },
  {
   "cell_type": "markdown",
   "metadata": {},
   "source": [
    "It comes\n",
    "$$\\mathcal{Z}^{(0)}(\\bar{r},\\varphi,s,t) =  \\hat{\\mathbf{z}} \\cdot \\left[\\mathbf{X}^{(0)}(s,t)-\\mathbf{X}^{(0)}(0,t)\\right]$$ \n",
    "$$\\mathcal{Z}^{(1)}(\\bar{r},\\varphi,s,t) =  \\hat{\\mathbf{z}} \\cdot \\left[\\mathbf{X}^{(1)}(s,t)-\\mathbf{X}^{(1)}(0,t)\\right]+\\bar{r}\\hat{\\mathbf{r}}^{(0)}\\cdot \\hat{\\mathbf{z}}$$ "
   ]
  },
  {
   "cell_type": "markdown",
   "metadata": {},
   "source": [
    "The symetrical part of $\\mathcal{Z}$ is  $$\\mathcal{Z}_c(s,t) =  \\hat{\\mathbf{z}} \\cdot \\left[\\mathbf{X}(s,t)-\\mathbf{X}(0,t)\\right] = \\int_{0}^{s}\\sigma(s',t) z_\\text{t}(s',t) ds.$$ \n",
    "\n",
    "We have\n",
    "$$\\mathcal{Z}^{(0)}(s,t) =  \\hat{\\mathbf{z}} \\cdot \\left[\\mathbf{X}^{(0)}(s,t)-\\mathbf{X}^{(0)}(0,t)\\right]=\\int_{0}^{s}\\sigma^{(0)}(s',t) z_\\text{t}^{(0)}(s',t) ds$$ \n",
    "$$\\mathcal{Z}_c^{(1)}(s,t) =  \\hat{\\mathbf{z}} \\cdot \\left[\\mathbf{X}^{(1)}(s,t)-\\mathbf{X}^{(1)}(0,t)\\right]=\\int_{0}^{s}\\sigma^{(1)}(s',t) z_\\text{t}^{(0)}(s',t) ds + \\int_{0}^{s}\\sigma^{(0)}(s',t) z_\\text{t}^{(1)}(s',t) ds.$$ "
   ]
  },
  {
   "cell_type": "markdown",
   "metadata": {},
   "source": [
    "And so:\n",
    "$$\\mathcal{Z}^{(0)}(\\bar{r},\\varphi,s,t)= \\mathcal{Z}^{(0)}(s,t)$$\n",
    "$$\\mathcal{Z}^{(1)}(\\bar{r},\\varphi,s,t) = \\mathcal{Z}_c^{(1)}(s,t) + \\bar{r}\\hat{\\mathbf{r}}^{(0)}\\cdot \\hat{\\mathbf{z}}$$\n",
    "with $$\\hat{\\mathbf{r}}^{(0)}\\cdot \\hat{\\mathbf{z}} = z_{r}^{(0)}=z_\\text{n}^{(0)}(s,t)\\cos(\\varphi) + z_\\text{b}^{(0)}(s,t) \\sin(\\varphi)$$"
   ]
  },
  {
   "cell_type": "markdown",
   "metadata": {},
   "source": [
    "It comes \n",
    "$${\\cal{H}}^{(0)}(\\bar{r},s,t)=p^{(0)}(\\bar{r},s,t)+\\left[{v^{(0)}(\\bar{r},s,t)}^2+{w^{(0)}(\\bar{r},s,t)}^2\\right]/2 + \\alpha {\\tilde{T}}^{(0)}(\\bar{r},s,t) \\mathcal{Z}^{(0)}(s,t)$$ \n",
    "and \n",
    "$${\\cal{H}}^{(1)}(\\bar{r},\\varphi,s,t)=p^{(1)}\n",
    "+\\left[v^{(0)} (v^{(1)}+ \\dot{\\mathbf{X}}^{(0)} \\cdot \\hat{\\boldsymbol{\\theta}}^{(0)})+ w^{(0)} w^{(1)}\\right] + \\alpha [{\\tilde{T}}^{(1)} \\mathcal{Z}^{(0)}+{\\tilde{T}}^{(0)} \\mathcal{Z}^{(1)}] $$\n",
    "$${\\cal{H}}^{(1)}_c(\\bar{r},s,t)=p^{(1)}_c +\\left[v^{(0)} v^{(1)}_c+ w^{(0)} w^{(1)}_c\\right] + \\alpha [{\\tilde{T}}^{(1)}_c\\mathcal{Z}^{(0)}(s,t)+ \\tilde{T}^{(0)} \\tilde{\\mathcal{Z}}_c^{(1)}(s,t)].$$ "
   ]
  },
  {
   "cell_type": "markdown",
   "metadata": {},
   "source": [
    "Remark: \n",
    "\n",
    "We also can write this kinetic energy equation based on the momentum equation in local coordinates.\n",
    "\n",
    "Warning: however the previous form with total head ${\\cal{H}}$ seems better and is closest to the first order and second order equations we want to derive.\n",
    "\n",
    "The kinetic energy equation is the momentum equation scalar  the velocity vector $\\boldsymbol{v}=(\\dot{\\mathbf{X}}+\\mathbf{V})$"
   ]
  },
  {
   "cell_type": "markdown",
   "metadata": {},
   "source": [
    "Remark: \n",
    "$$ (\\dot{\\mathbf{X}}+\\mathbf{V}) \\cdot \\left[\\ddot{\\mathbf{X}} + (\\frac{w}{h_3}-\\frac{r}{h_3}\\hat{\\mathbf{r}}_t\\cdot \\hat{ \\tau}) \\dot{\\mathbf{X}}_s + \\frac{d\\mathbf{V}}{dt} \\right]= (\\dot{\\mathbf{X}}+\\mathbf{V}) \\cdot \\left[- \\mathbf{\\nabla} p + \\bar{\\nu} \\epsilon^2 \\left(\\frac{1}{h_3}\\left(\\frac{1}{h_3}\\dot{\\mathbf{X}}_s\\right)_s + \\Delta \\mathbf{V}\\right) - \\epsilon^{-2} \\alpha \\tilde{T}\\hat{z}\\right]$$"
   ]
  },
  {
   "cell_type": "markdown",
   "metadata": {},
   "source": [
    "To have an $O(1)$ term at leading order, we indeed will expand the following equation\n",
    "$$ \\epsilon (\\dot{\\mathbf{X}}+\\mathbf{V}) \\cdot \\left[\\epsilon^3 \\ddot{\\mathbf{X}} + \\epsilon^3 (\\frac{w}{h_3}-\\frac{r}{h_3}\\hat{\\mathbf{r}}_t\\cdot \\hat{ \\tau}) \\dot{\\mathbf{X}}_s + \\epsilon^3 \\frac{d\\mathbf{V}}{dt}\\right] = \\epsilon (\\dot{\\mathbf{X}}+\\mathbf{V}) \\cdot \\left[- \\epsilon^3 \\mathbf{\\nabla} p + \\bar{\\nu} \\epsilon^5 \\left(\\frac{1}{h_3}\\left(\\frac{1}{h_3}\\dot{\\mathbf{X}}_s\\right)_s + \\Delta \\mathbf{V}\\right) - \\epsilon \\alpha \\tilde{T}\\hat{z}\\right]$$"
   ]
  },
  {
   "cell_type": "markdown",
   "metadata": {},
   "source": [
    "## 6) The leading order equations and resulting simplifications"
   ]
  },
  {
   "cell_type": "markdown",
   "metadata": {},
   "source": [
    "**The continuity equation at leading order:**"
   ]
  },
  {
   "cell_type": "markdown",
   "metadata": {},
   "source": [
    "$$\\sigma^{(0)} \\frac{\\partial}{\\partial \\varphi}v^{(0)} = 0$$ "
   ]
  },
  {
   "cell_type": "markdown",
   "metadata": {},
   "source": [
    "It means $$v^{(0)}(\\bar{r},\\varphi,s,t)=v^{(0)}(\\bar{r},s,t)$$"
   ]
  },
  {
   "cell_type": "markdown",
   "metadata": {},
   "source": [
    "**The energy equation at leading order:**"
   ]
  },
  {
   "cell_type": "markdown",
   "metadata": {},
   "source": [
    "$$\\frac{v^{(0)}\\left({\\bar{r}}, \\varphi, s, t\\right) \\frac{\\partial\\,T^{(0)}}{\\partial \\varphi}}{{\\bar{r}}} = 0$$"
   ]
  },
  {
   "cell_type": "markdown",
   "metadata": {},
   "source": [
    "it means $$T^{(0)}(\\bar{r},\\varphi,s,t)=T^{(0)}(\\bar{r},s,t)$$"
   ]
  },
  {
   "cell_type": "markdown",
   "metadata": {},
   "source": [
    "**The NS equation: axial component at leading order:**"
   ]
  },
  {
   "cell_type": "markdown",
   "metadata": {},
   "source": [
    "$$\\frac{v^{(0)}\\left({\\bar{r}}, s, t\\right) \\frac{\\partial\\,w^{(0)}}{\\partial \\varphi}}{{\\bar{r}}} = 0$$"
   ]
  },
  {
   "cell_type": "markdown",
   "metadata": {},
   "source": [
    "So it means $$w^{(0)}(\\bar{r},\\varphi,s,t)=w^{(0)}(\\bar{r},s,t)$$"
   ]
  },
  {
   "cell_type": "markdown",
   "metadata": {},
   "source": [
    "**The NS equation: circumferential component at leading order:**"
   ]
  },
  {
   "cell_type": "markdown",
   "metadata": {},
   "source": [
    "$$0 = -\\frac{\\frac{\\partial\\,p^{(0)}}{\\partial \\varphi}}{{\\bar{r}}}$$"
   ]
  },
  {
   "cell_type": "markdown",
   "metadata": {},
   "source": [
    "where we have used $v^{(0)}(\\bar{r},\\varphi,s,t)=v^{(0)}(\\bar{r},s,t)$. So it means $$p^{(0)}(\\bar{r},\\varphi,s,t)=p^{(0)}(\\bar{r},s,t)$$"
   ]
  },
  {
   "cell_type": "markdown",
   "metadata": {},
   "source": [
    "## 7) The continuity equation expansion at leading and first order"
   ]
  },
  {
   "cell_type": "markdown",
   "metadata": {},
   "source": [
    "**The continuity equation at leading order:**"
   ]
  },
  {
   "cell_type": "markdown",
   "metadata": {},
   "source": [
    "$$v^{(0)}(\\bar{r},\\varphi,s,t)=v^{(0)}(\\bar{r},s,t)$$"
   ]
  },
  {
   "cell_type": "markdown",
   "metadata": {},
   "source": [
    "As previously see, we use also in the following\n",
    "$$w^{(0)}(\\bar{r},\\varphi,s,t)=w^{(0)}(\\bar{r},s,t)$$"
   ]
  },
  {
   "cell_type": "markdown",
   "metadata": {},
   "source": [
    "**The continuity equation at first order:**"
   ]
  },
  {
   "cell_type": "markdown",
   "metadata": {},
   "source": [
    " $${\\bar{r}} \\mathcal{K}^{(0)} \\sigma^{(0)} \\sin\\left(\\varphi\\right) v^{(0)} +  \\sigma^{(0)}\\frac{\\partial\\,{\\bar{r}}  u^{(1)}}{\\partial {\\bar{r}}} + \\sigma^{(0)} \\frac{\\partial\\,v^{(1)}}{\\partial \\varphi} + {\\bar{r}} \\frac{\\partial\\,w^{(0)}}{\\partial s} = 0$$"
   ]
  },
  {
   "cell_type": "markdown",
   "metadata": {},
   "source": [
    "**The symmetrical continuity equation at first order:**"
   ]
  },
  {
   "cell_type": "markdown",
   "metadata": {},
   "source": [
    "$$ \\sigma^{(0)} \\frac{\\partial {\\bar{r}} u^{(1)}_c}{\\partial {\\bar{r}}}  + {\\bar{r}} \\frac{\\partial w^{(0)}}{\\partial s}=0$$"
   ]
  },
  {
   "cell_type": "markdown",
   "metadata": {},
   "source": [
    "**The asymmetrical continuity equation at first order:**"
   ]
  },
  {
   "cell_type": "markdown",
   "metadata": {},
   "source": [
    "$$\\frac{\\partial {\\bar{r}} u^{(1)}_a}{\\partial {\\bar{r}}} +  \\frac{\\partial v^{(1)}_a}{\\partial \\varphi} + {\\bar{r}} \\mathcal{K}^{(0)} \\sin\\left(\\varphi\\right) v^{(0)}=0$$"
   ]
  },
  {
   "cell_type": "markdown",
   "metadata": {},
   "source": [
    "# 8) The internal energy equation expansion at leading and first order"
   ]
  },
  {
   "cell_type": "markdown",
   "metadata": {},
   "source": [
    "**The energy equation at leading order:**"
   ]
  },
  {
   "cell_type": "markdown",
   "metadata": {},
   "source": [
    "$$T^{(0)}(\\bar{r},\\varphi,s,t)=T^{(0)}(\\bar{r},s,t)$$"
   ]
  },
  {
   "cell_type": "markdown",
   "metadata": {},
   "source": [
    "As previously see, we use also in the following\n",
    "$$v^{(0)}(\\bar{r},\\varphi,s,t)=v^{(0)}(\\bar{r},s,t)$$\n",
    "$$w^{(0)}(\\bar{r},\\varphi,s,t)=w^{(0)}(\\bar{r},s,t)$$ "
   ]
  },
  {
   "cell_type": "markdown",
   "metadata": {},
   "source": [
    "**The energy equation at first order:**"
   ]
  },
  {
   "cell_type": "markdown",
   "metadata": {},
   "source": [
    "$$u^{(1)}\\frac{\\partial\\,T^{(0)}}{\\partial {\\bar{r}}} + \\frac{w^{(0)}\\frac{\\partial\\,T^{(0)}}{\\partial s}}{\\sigma^{(0)}} + \\frac{v^{(0)}\\frac{\\partial\\,T^{(1)}}{\\partial \\varphi}}{{\\bar{r}}} = 0$$"
   ]
  },
  {
   "cell_type": "markdown",
   "metadata": {},
   "source": [
    "**The symmetrical part of energy equation at first order:**"
   ]
  },
  {
   "cell_type": "markdown",
   "metadata": {},
   "source": [
    "$$\\frac{\\partial T^{(0)}}{\\partial \\bar{r}} u^{(1)}_c  + \\frac{w^{(0)}}{\\sigma^{(0)}} \\frac{\\partial T^{(0)}}{\\partial s}=0$$\n"
   ]
  },
  {
   "cell_type": "markdown",
   "metadata": {},
   "source": [
    "**The asymmetrical part of energy equation at first order:**"
   ]
  },
  {
   "cell_type": "markdown",
   "metadata": {},
   "source": [
    "$$\\frac{\\partial T^{(0)}}{\\partial \\bar{r}}  u^{(1)}_a + \\frac{v^{(0)}}{\\bar{r}} \\frac{\\partial T^{(1)}_a}{\\partial \\varphi} = 0$$"
   ]
  },
  {
   "cell_type": "markdown",
   "metadata": {},
   "source": [
    "# 9) The NS equation in Boussinesq Approximation (Buoyancy) expansions"
   ]
  },
  {
   "cell_type": "markdown",
   "metadata": {},
   "source": [
    "**The NS equation at leading order:**"
   ]
  },
  {
   "cell_type": "markdown",
   "metadata": {},
   "source": [
    "Axial component of NS"
   ]
  },
  {
   "cell_type": "markdown",
   "metadata": {},
   "source": [
    "$$w^{(0)}(\\bar{r},\\varphi,s,t)=w^{(0)}(\\bar{r},s,t)$$"
   ]
  },
  {
   "cell_type": "markdown",
   "metadata": {},
   "source": [
    "Circumferential component  of NS"
   ]
  },
  {
   "cell_type": "markdown",
   "metadata": {},
   "source": [
    "$$p^{(0)}(\\bar{r},\\varphi,s,t)=p^{(0)}(\\bar{r},s,t)$$"
   ]
  },
  {
   "cell_type": "markdown",
   "metadata": {},
   "source": [
    "Radial component of NS"
   ]
  },
  {
   "cell_type": "markdown",
   "metadata": {},
   "source": [
    "$$-\\frac{{v^{(0)}}^{2}}{\\bar{r}} = -\\frac{\\partial\\ p^{(0)}}{\\partial {\\bar{r}}}$$"
   ]
  },
  {
   "cell_type": "markdown",
   "metadata": {},
   "source": [
    "This provide $$p^{(0)}=-\\int_{\\bar{r}}^{\\infty}\\frac{{v^{(0)}}^{2}}{\\xi}\\;d\\xi$$\n",
    "We do not have any adding term  $g^{(0)}(s,t)$ because of the limit at infinity."
   ]
  },
  {
   "cell_type": "markdown",
   "metadata": {},
   "source": [
    "As previously see, we use also in the following\n",
    "$$v^{(0)}(\\bar{r},\\varphi,s,t)=v^{(0)}(\\bar{r},s,t)$$\n",
    "$$T^{(0)}(\\bar{r},\\varphi,s,t)=T^{(0)}(\\bar{r},s,t)$$"
   ]
  },
  {
   "cell_type": "markdown",
   "metadata": {},
   "source": [
    "**The NS equation at first order:**"
   ]
  },
  {
   "cell_type": "markdown",
   "metadata": {},
   "source": [
    "Radial component of NS"
   ]
  },
  {
   "cell_type": "markdown",
   "metadata": {},
   "source": [
    "$$\\mathcal{K}^{(0)} \\cos\\left(\\varphi\\right) {w^{(0)}}^{2} - \\frac{2 \\, v^{(0)} v^{(1)}}{{\\bar{r}}} + \\frac{v^{(0)} \\frac{\\partial\\,u^{(1)}}{\\partial \\varphi}}{{\\bar{r}}} = -\\alpha \\tilde{T}^{(0)}z_{r}^{(0)}- \\frac{\\partial\\,p^{(1)}}{\\partial {\\bar{r}}}$$"
   ]
  },
  {
   "cell_type": "markdown",
   "metadata": {},
   "source": [
    "Circumferential component of NS"
   ]
  },
  {
   "cell_type": "markdown",
   "metadata": {},
   "source": [
    "$$-\\mathcal{K}^{(0)} \\sin\\left(\\varphi\\right) {w^{(0)}}^{2} + u^{(1)} \\frac{\\partial\\,v^{(0)}}{\\partial {\\bar{r}}} + \\frac{u^{(1)} v^{(0)}}{{\\bar{r}}} + \\frac{w^{(0)} \\frac{\\partial\\,v^{(0)}}{\\partial s}}{\\sigma^{(0)}} + \\frac{v^{(0)}\\frac{\\partial\\,v^{(1)}}{\\partial \\varphi}}{{\\bar{r}}} = -\\alpha \\tilde{T}^{(0)}z_{\\theta}^{(0)} - \\frac{\\frac{\\partial\\,p^{(1)}}{\\partial \\varphi}}{{\\bar{r}}}$$"
   ]
  },
  {
   "cell_type": "markdown",
   "metadata": {},
   "source": [
    "Axial component of NS"
   ]
  },
  {
   "cell_type": "markdown",
   "metadata": {},
   "source": [
    "$$\\mathcal{K}^{(0)}\\left(s, t\\right) v^{(0)} w^{(0)} \\sin(\\varphi) + u^{(1)}\\frac{\\partial\\,w^{(0)}}{\\partial {\\bar{r}}} + \\frac{w^{(0)} \\frac{\\partial\\,w^{(0)}}{\\partial s}}{\\sigma^{(0)}\\left(s, t\\right)} + \\frac{v^{(0)} \\frac{\\partial\\,w^{(1)}}{\\partial \\varphi}}{{\\bar{r}}} = -\\alpha \\tilde{T}^{(0)}z_\\text{t}^{(0)} - \\frac{\\frac{\\partial\\,p^{(0)}}{\\partial s}}{\\sigma^{(0)}\\left(s, t\\right)}$$ "
   ]
  },
  {
   "cell_type": "markdown",
   "metadata": {},
   "source": [
    "**Split of the Radial component of NS equation at first order:**"
   ]
  },
  {
   "cell_type": "markdown",
   "metadata": {},
   "source": [
    "Symmetrical Part"
   ]
  },
  {
   "cell_type": "markdown",
   "metadata": {},
   "source": [
    "$$ \\frac{2v^{(0)}v^{(1)}_c}{\\bar{r}}  =  \\frac{\\partial p^{(1)}_c}{\\partial \\bar{r}}$$"
   ]
  },
  {
   "cell_type": "markdown",
   "metadata": {},
   "source": [
    "This provide $$p^{(1)}_c=-2\\int_{\\bar{r}}^{\\infty}\\frac{v^{(0)}v^{(1)}_c}{\\xi}\\;d\\xi$$\n",
    "We do not have any adding term  $g^{(0)}(s,t)$ because of the limit at infinity."
   ]
  },
  {
   "cell_type": "markdown",
   "metadata": {},
   "source": [
    "Asymmetrical Part"
   ]
  },
  {
   "cell_type": "markdown",
   "metadata": {},
   "source": [
    "$$ \n",
    "-2\\frac{v^{(0)}v^{(1)}_a}{\\bar{r}} + \\frac{v^{(0)}}{\\bar{r}} \\frac{\\partial u^{(1)}_a}{\\partial \\varphi} +\\mathcal{K}^{(0)} \\cos\\left(\\varphi\\right) {w^{(0)}}^2= - \\frac{\\partial p^{(1)}_a}{\\partial \\bar{r}}\n",
    "-\\alpha \\tilde{T}^{(0)}z_{r}^{(0)}$$"
   ]
  },
  {
   "cell_type": "markdown",
   "metadata": {},
   "source": [
    "**Split of the Circumferential component of NS equation at first order:**"
   ]
  },
  {
   "cell_type": "markdown",
   "metadata": {},
   "source": [
    "Symmetrical Part"
   ]
  },
  {
   "cell_type": "markdown",
   "metadata": {},
   "source": [
    "$$\\frac{1}{\\bar{r}}\\frac{\\partial \\bar{r} v^{(0)}}{\\partial \\bar{r}} u^{(1)}_c  + \\frac{w^{(0)}}{\\sigma^{(0)}} \\frac{\\partial v^{(0)}}{\\partial s} = 0$$"
   ]
  },
  {
   "cell_type": "markdown",
   "metadata": {},
   "source": [
    "Asymmetrical Part"
   ]
  },
  {
   "cell_type": "markdown",
   "metadata": {},
   "source": [
    "$$  \\frac{\\partial v^{(0)}}{\\partial \\bar{r}} u^{(1)}_a+\\frac{v^{(0)}u^{(1)}_a} {\\bar{r}}-\\mathcal{K}^{(0)}  \\sin\\left(\\varphi\\right) {w^{(0)}}^2 + \\frac{v^{(0)}}{\\bar{r}} \\frac{\\partial v^{(1)}_a}{\\partial \\varphi} = - \\frac{1}{\\bar{r}}\\frac{\\partial p^{(1)}_a}{\\partial \\varphi}\n",
    " -\\alpha \\tilde{T}^{(0)}z_{\\theta}^{(0)}$$"
   ]
  },
  {
   "cell_type": "markdown",
   "metadata": {},
   "source": [
    "**Split of the Axial component of NS equation at first order:**"
   ]
  },
  {
   "cell_type": "markdown",
   "metadata": {},
   "source": [
    "Symmetrical Part"
   ]
  },
  {
   "cell_type": "markdown",
   "metadata": {},
   "source": [
    "$$  \\frac{\\partial w^{(0)}}{\\partial \\bar{r}} u^{(1)}_c + \\frac{w^{(0)}}{\\sigma^{(0)}} \\frac{\\partial w^{(0)}}{\\partial s} = - \\frac{1}{\\sigma^{(0)}} \\frac{\\partial p^{(0)}}{\\partial s} -\\alpha \\tilde{T}^{(0)}z_\\text{t}^{(0)}$$"
   ]
  },
  {
   "cell_type": "markdown",
   "metadata": {},
   "source": [
    "Asymmetrical Part"
   ]
  },
  {
   "cell_type": "markdown",
   "metadata": {},
   "source": [
    "$$  \\frac{\\partial w^{(0)}}{\\partial \\bar{r}} u^{(1)}_a\n",
    "   +\\mathcal{K}^{(0)}  \\sin\\left(\\varphi\\right) v^{(0)}w^{(0)}\n",
    "   +\\frac{v^{(0)}}{\\bar{r}}\\frac{\\partial w^{(1)}_a}{\\partial \\varphi}\n",
    "   = 0$$"
   ]
  },
  {
   "cell_type": "markdown",
   "metadata": {},
   "source": [
    "# 10)  Asymmetrical equations a first order: the stream function equation"
   ]
  },
  {
   "cell_type": "markdown",
   "metadata": {},
   "source": [
    "Let us define the stream function $\\psi_a^{(1)}$ such that\n",
    "$$u_a^{(1)}= \\frac{1}{\\bar{r}} \\frac{\\partial \\psi_a^{(1)}}{\\partial \\varphi}$$\n",
    "$$v_a^{(1)}= -\\frac{\\partial \\psi_a^{(1)}}{\\partial \\bar{r}} + \\bar{r} \\mathcal{K}^{(0)} v^{(0)} \\cos\\left(\\varphi\\right)$$\n",
    "\n",
    "We can check that the continuity equations (symmetrical and asymmetrical) is satisfied.\n",
    "\n",
    "We will then use radial and circumferential asymmetrical NS equation at first order: removing the pressure derivative $p^{(1)}_a$ in those two equations by using $\\frac{\\partial^2 p^{(1)}_a}{\\partial \\bar{r} \\partial\\varphi}=\\frac{\\partial^2 p^{(1)}_a}{\\partial \\varphi \\partial\\bar{r} }$  will give an equation for $$ \\chi_a^{(1)} = \\frac{\\partial \\psi_a^{(1)}}{\\partial \\varphi}$$\n"
   ]
  },
  {
   "cell_type": "markdown",
   "metadata": {},
   "source": [
    "The asymmetric equation (radial component of NS equation) is\n",
    "$$ \n",
    "-2\\frac{v^{(0)}v^{(1)}_a}{\\bar{r}} + \\frac{v^{(0)}}{\\bar{r}} \\frac{\\partial u^{(1)}_a}{\\partial \\varphi} +\\mathcal{K}^{(0)}  \\cos\\left(\\varphi\\right) {w^{(0)}}^2= - \\frac{\\partial p^{(1)}_a}{\\partial \\bar{r}}\n",
    "-\\alpha \\tilde{T}^{(0)}z_{r}^{(0)}$$"
   ]
  },
  {
   "cell_type": "markdown",
   "metadata": {},
   "source": [
    "The asymmetric equation (circumferential component of NS equation) is"
   ]
  },
  {
   "cell_type": "markdown",
   "metadata": {},
   "source": [
    " $$  \\frac{\\partial v^{(0)}}{\\partial \\bar{r}} u^{(1)}_a+\\frac{v^{(0)}u^{(1)}_a} {\\bar{r}}-\\mathcal{K}^{(0)}  \\sin\\left(\\varphi\\right) {w^{(0)}}^2  + \\frac{v^{(0)}}{\\bar{r}} \\frac{\\partial v^{(1)}_a}{\\partial \\varphi}  = - \\frac{1}{\\bar{r}}\\frac{\\partial p^{(1)}_a}{\\partial \\bar{\\varphi}}\n",
    " -\\alpha \\tilde{T}^{(0)}z_{\\theta}^{(0)}$$"
   ]
  },
  {
   "cell_type": "markdown",
   "metadata": {},
   "source": [
    "We  get:\n",
    "$$v^{(0)} \\Delta \\chi_a^{(1)} - \\frac{\\partial \\zeta^{(0)}}{\\partial \\bar{r}} \\chi_a^{(1)} = \\Upsilon^{(0)}$$\n",
    "where \n",
    "$$ \\chi_a^{(1)} = \\frac{\\partial \\psi_a^{(1)}}{\\partial \\varphi}$$\n",
    "$$\\Delta f = \\frac{\\partial f}{\\partial^2 \\bar{r}} + \\frac{1}{\\bar{r}} \\frac{\\partial f}{\\partial \\bar{r}} + \\frac{1}{\\bar{r}^2 }\\frac{\\partial f}{\\partial^2 \\varphi}$$ is the laplacian in polar coordinates\n",
    "$$\\zeta^{(0)}= \\frac{1}{\\bar{r}}\\frac{\\partial (\\bar{r}v^{(0)})}{\\partial \\bar{r}}$$\n",
    "$$\\Upsilon^{(0)}= - \\mathcal{K}^{(0)} H\\sin(\\varphi) +\\alpha B z_{\\theta}^{(0)}$$\n",
    "with\n",
    "$$H=v^{(0)}(2 \\bar{r}\\zeta^{(0)}+v^{(0)} )+ 2\\bar{r} w^{(0)} \\frac{\\partial w^{(0)}}{\\partial \\bar{r}}$$\n",
    "$$B=\\bar{r}\\frac{\\partial {\\tilde{T}}^{(0)}}{\\partial \\bar{r}}$$\n",
    "$$z_{\\theta}^{(0)} = -z_\\text{n}^{(0)}\\sin(\\varphi)+z_\\text{b}^{(0)}\\cos(\\varphi) $$"
   ]
  },
  {
   "cell_type": "markdown",
   "metadata": {},
   "source": [
    "We expand $\\psi^{(1)}_a$ in a Fourier series as follows\n",
    "$$\\psi^{(1)}_a = \\sum_{n=1}^{\\infty} \\left(\\psi^{(1)}_{n1}\\cos(n\\varphi) + \\psi^{(1)}_{n2}\\sin(n\\varphi)\\right)$$"
   ]
  },
  {
   "cell_type": "markdown",
   "metadata": {},
   "source": [
    "By using replacing in the equation and identifying all Fourier modes in the equation, we get an equation for each mode. This set of equations can be written in the following compact form:\n",
    "$$v^{(0)}\\left[\\frac{1}{\\bar{r}}\\frac{\\partial}{\\partial \\bar{r}} + \\frac{\\partial^2}{\\partial \\bar{r}^2} - \\left(\\frac{n^2}{\\bar{r}^2} + \\frac{\\zeta_{\\bar{r}}^{(0)}}{v^{(0)}}\\right)\\right]\\psi^{(1)}_{nj} =  \\Upsilon^{(0)}_{nj}$$\n",
    "where\n",
    "$$\\Upsilon^{(0)}_{nj} = \\left[\\mathcal{K}^{(0)} H (\\bar{r},s,t) + \\alpha z_\\text{n}^{(0)} B(\\bar{r},s,t) \\right]\\delta_{n1}\\delta_{j1}   + \\alpha z_\\text{b}^{(0)} B(\\bar{r},s,t) \\delta_{n1}\\delta_{j2}$$"
   ]
  },
  {
   "cell_type": "markdown",
   "metadata": {},
   "source": [
    "We get $\\psi^{(1)}_{nj} =0$ if $n\\neq1$ and $\\psi^{(1)}_{11}$ and $\\psi^{(1)}_{12}$ are found based on this equation and its limit at $\\bar{r}=0$. \n",
    "\n",
    "They are of the form\n",
    "$$  \\psi^{(1)}_{11} = \\kappa^{(0)} v^{(0)} J + \\alpha z_\\text{n}^{(0)} v^{(0)} I$$\n",
    "$$    \\psi^{(1)}_{12} = \\alpha z_\\text{b}^{(0)} v^{(0)} I$$\n",
    "\n",
    "Important remark: it is important to notice that $\\psi^{(1)}_{12}$ is proportional to $\\alpha$.\n",
    "\n",
    "We so can find their limit at $\\bar{r}=\\infty$ to be on the form\n",
    "    $$\\psi_{11}^{(1)} \\sim \\frac{\\kappa^{(0)}\\Gamma}{4\\pi}\\bar{r} \\ln \\bar{r} + C_1 \\bar{r}$$\n",
    "    $$\\psi_{12}^{(1)} \\sim C_2 \\bar{r}$$\n",
    "and also find expression of $C_1$ and $C_2$ as integrals of the fields at leading order:    \n",
    "$$C_1(s,t)= \\frac{\\Gamma}{4\\pi}\\left[\\kappa^{(0)}\\left(C_v(t) + C_w(t)\\right) + \\alpha z_\\text{n}^{(0)} C_T(t)\\right]$$   \n",
    "$$C_2(s,t) = \\frac{\\Gamma}{4\\pi} \\alpha z_\\text{b}^{(0)} C_T(t)$$\n",
    "where\n",
    "$$C_v(s,t) = \\lim_{\\bar{r}\\longrightarrow \\infty}\\left(\\frac{4\\pi^2}{\\Gamma^2}\\int_0^{\\bar{r}}\\xi\\left(v^{(0)}\\right)^2\\;d\\xi -\\ln\\bar{r}\\right) +\\frac{1}{2}$$ \n",
    "$$C_w(s,t) = -\\frac{8\\pi^2}{\\Gamma^2}\\int_0^{\\infty}\\xi\\left(w^{(0)}\\right)^2\\;d\\xi$$\n",
    "$$C_T(s,t) =  -\\frac{8\\pi^2}{\\Gamma^2}\n",
    "    \\int_0^{\\infty}\\xi\\tilde{T}^{(0)}\\; d\\xi$$"
   ]
  },
  {
   "cell_type": "markdown",
   "metadata": {},
   "source": [
    "The asymtotic matching condition of the velocity based on the limit at $r=0$ of the Biot Savart law of of an infinitely concentrated vortex of circulation $\\Gamma$ on the $\\mathbf{X}(s,t)$ provides the limit at $\\bar{r}=\\infty$ of the velocity field $v^{(0)},w^{(0)},u^{(1)},v^{(1)},w^{(1)}$. "
   ]
  },
  {
   "cell_type": "markdown",
   "metadata": {},
   "source": [
    "From those limits of the velocity and based on the $\\psi^{(1)}$ definition: $$u^{(1)}= \\frac{1}{\\bar{r}} \\frac{\\partial \\psi^{(1)}}{\\partial \\varphi}$$ we deduce a limit of $\\psi^{(1)}$ at $\\bar{r}=\\infty$:\n",
    "$$\\psi^{(1)} \\sim - \\frac{\\Gamma \\kappa^{(0)}}{4\\pi} \\cos\\varphi\\bar{r}\\ln\\left(\\frac{1}{\\epsilon \\bar{r}}\\right)+ \\bar{r}\\left[(\\mathbf{Q}_0-\\dot{\\mathbf{X}}^{(0)})\\cdot\\left(\\hat{\\mathbf{n}}^{(0)}\\sin\\varphi - \\hat{\\mathbf{b}}^{(0)}\\cos\\varphi\\right)\\right]$$\n",
    "where $\\mathbf{Q}_0$ is defined as in \"Viscous Vortical Flows\", Ting & Klein 1991 \n",
    "\n",
    "We also can check that this limit is also coeherent with the relation $$v^{(1)}= -\\frac{\\partial \\psi^{(1)}}{\\partial \\bar{r}} + \\bar{r} \\mathcal{K}^{(0)} v^{(0)} \\cos\\left(\\varphi\\right)$$"
   ]
  },
  {
   "cell_type": "markdown",
   "metadata": {},
   "source": [
    "Comparing the two expressions of the limit of the stream function we get\n",
    "$$C_1 = -\\frac{\\Gamma \\kappa^{(0)}}{4\\pi} \\ln(\\frac{1}{\\epsilon})  - (\\mathbf{Q}_0-\\dot{\\mathbf{X}}^{(0)})\\cdot\\hat{\\mathbf{b}}^{(0)}$$\n",
    "$$C_2 =  (\\mathbf{Q}_0-\\dot{\\mathbf{X}}^{(0)})\\cdot\\hat{\\mathbf{n}}^{(0)}$$"
   ]
  },
  {
   "cell_type": "markdown",
   "metadata": {},
   "source": [
    "As we have $$\\dot{\\mathbf{X}}\\cdot\\hat{ \\tau} = 0,$$\n",
    "we deduce the equation of motion\n",
    "$$\\dot{\\mathbf{X}}^{(0)}  = \\frac{\\Gamma \\kappa^{(0)}}{4\\pi} \\ln(\\frac{1}{\\epsilon}) \\hat{\\mathbf{b}}^{(0)} + C_1 \\hat{\\mathbf{b}}^{(0)} - C_2 \\hat{\\mathbf{b}}^{(0)} + \\mathbf{Q}_0 $$"
   ]
  },
  {
   "cell_type": "markdown",
   "metadata": {},
   "source": [
    "And so based on the expressions of $C_1$ and $C_2$ we get \n",
    "$$\\dot{\\mathbf{X}}^{(0)} =  \\mathbf{Q}_0 +\\frac{\\Gamma\\kappa^{(0)}}{4\\pi}\\left[\\ln \\frac{1}{\\epsilon}+ C_v(s,t) + C_w(s,t)\\right]\\hat{\\mathbf{b}}^{(0)} - \\frac{\\Gamma}{4\\pi}  \\alpha C_T(s,t) \\hat{\\mathbf{z}}\\times \\hat{\\mathbf{\\tau}}^{(0)}$$\n",
    "as $\\hat{\\mathbf{z}}\\times \\hat{\\mathbf{\\tau}}^{(0)} = \\hat{z} \\times (\\hat{\\mathbf{n}}^{(0)}\\times \\hat{\\mathbf{b}}^{(0)}) = \\hat{\\mathbf{n}}z_\\text{b}^{(0)} -\\hat{\\mathbf{b}}z_\\text{n}^{(0)}$"
   ]
  },
  {
   "cell_type": "markdown",
   "metadata": {},
   "source": [
    "From the definition of $\\psi^{(1)}$ it comes\n",
    "$$u^{(1)}=u^{(1)}_c + u^{(1)}_{11} \\cos(\\varphi) + u^{(1)}_{12} \\sin(\\varphi)$$\n",
    "$$v^{(1)}=v^{(1)}_c + v^{(1)}_{11} \\cos(\\varphi) + v^{(1)}_{12} \\sin(\\varphi)$$"
   ]
  },
  {
   "cell_type": "markdown",
   "metadata": {},
   "source": [
    "From the asymmetrical par of the Axial component of NS equation at first order: \n",
    "$$  \\frac{\\partial w^{(0)}}{\\partial \\bar{r}} u^{(1)}_a +\\mathcal{K}^{(0)}  \\sin\\left(\\varphi\\right) v^{(0)}w^{(0)} +\\frac{v^{(0)}}{\\bar{r}}\\frac{\\partial w^{(1)}_a}{\\partial \\bar{\\varphi}}= 0$$\n",
    "its comes\n",
    "$$w^{(1)}=w^{(1)}_c + w^{(1)}_{11} \\cos(\\varphi) + w^{(1)}_{12} \\sin(\\varphi)$$\n"
   ]
  },
  {
   "cell_type": "markdown",
   "metadata": {},
   "source": [
    "From the asymmetrical par of the circumferential component of NS equation at first order: \n",
    "$$  \\frac{\\partial v^{(0)}}{\\partial \\bar{r}} u^{(1)}_a+\\frac{v^{(0)}u^{(1)}_a} {\\bar{r}}-\\mathcal{K}^{(0)}  \\sin\\left(\\varphi\\right) [w^{(0)}]^2 + \\frac{v^{(0)}}{\\bar{r}} \\frac{\\partial v^{(1)}_a}{\\partial \\varphi} = - \\frac{1}{\\bar{r}}\\frac{\\partial p^{(1)}_a}{\\partial \\bar{\\varphi}}\n",
    " -\\alpha \\tilde{T}^{(0)}z_{\\theta}^{(0)}$$\n",
    "its comes\n",
    "$$p^{(1)}=p^{(1)}_c + p^{(1)}_{11} \\cos(\\varphi) + p^{(1)}_{12} \\sin(\\varphi)$$"
   ]
  },
  {
   "cell_type": "markdown",
   "metadata": {},
   "source": [
    "From the the asymmetrical part of energy equation at first order:\n",
    "$$\\frac{\\partial T^{(0)}}{\\partial \\bar{r}}  u^{(1)}_a + \\frac{v^{(0)}}{\\bar{r}} \\frac{\\partial T^{(1)}_a}{\\partial \\varphi} = 0$$\n",
    "its comes\n",
    "$$T^{(1)}=T^{(1)}_c + T^{(1)}_{11} \\cos(\\varphi) + T^{(1)}_{12} \\sin(\\varphi)$$"
   ]
  },
  {
   "cell_type": "markdown",
   "metadata": {},
   "source": [
    "From the symmetric part of the Circumferential component of NS at first order\n",
    "$$\\zeta^{(0)} u^{(1)}_c  + \\frac{w^{(0)}}{\\sigma^{(0)}} \\frac{\\partial v^{(0)}}{\\partial s} = 0$$\n",
    "we get $u^{(1)}_c$\n",
    "$$ u^{(1)}_c  = - \\frac{w^{(0)}}{\\sigma^{(0)}\\zeta^{(0)}} \\frac{\\partial v^{(0)}}{\\partial s}$$\n",
    "and so $$\\sigma^{(0)} \\bar{r} u^{(1)}_c = -   \\frac{ \\bar{r} w^{(0)}}{\\zeta^{(0)}} \\frac{\\partial v^{(0)}}{\\partial s}$$\n",
    "$$\\sigma^{(0)} \\frac{\\partial \\bar{r} u^{(1)}_c}{\\partial \\bar{r}} = -   \\frac{\\partial \\frac{ \\bar{r} w^{(0)}}{\\zeta^{(0)}} \\frac{\\partial v^{(0)}}{\\partial s}}{\\partial\\bar{r}}$$\n",
    "But we also have from the symmetrical continuity equation at first order:\n",
    "$$ \\sigma^{(0)} \\frac{\\partial {\\bar{r}} u^{(1)}_c}{\\partial {\\bar{r}}}  + {\\bar{r}} \\frac{\\partial w^{(0)}}{\\partial s}=0$$\n",
    "that lead to the equation\n",
    "$$\\frac{\\partial \\frac{ \\bar{r} w^{(0)}}{\\zeta^{(0)}} \\frac{\\partial v^{(0)}}{\\partial s}}{\\partial\\bar{r}} = {\\bar{r}} \\frac{\\partial w^{(0)}}{\\partial s}$$\n",
    "Should we in case of periodicity in $s$ define $f(\\bar{r},s,t)=f_m(\\bar{r},t)+f_v(\\bar{r},s,t)$ where $f_m(\\bar{r},t)$ is the average in $s$?"
   ]
  },
  {
   "cell_type": "markdown",
   "metadata": {},
   "source": [
    "Remark: equation of $v^{(0)}_c$, $w^{(0)}$, and $T^{(0)}$ are not provided and will be provided at second order."
   ]
  },
  {
   "cell_type": "markdown",
   "metadata": {},
   "source": [
    "Remark: equation of $v^{(1)}_c$, $w^{(1)}_c$, and $T^{(1)}_c$ are not provided and will be provided at third order."
   ]
  },
  {
   "cell_type": "markdown",
   "metadata": {},
   "source": [
    "# 11) Fourier coefficients of the filelds as a function of the psi function"
   ]
  },
  {
   "cell_type": "markdown",
   "metadata": {},
   "source": [
    "$$u_{11} = \\frac{1}{\\bar{r}} \\psi^{(1)}_{12}$$\n",
    "$$u_{12} = -\\frac{1}{\\bar{r}} \\psi^{(1)}_{11}$$\n",
    "$$v_{11} = -\\frac{\\partial \\psi_{11}^{(1)}}{\\partial \\bar{r}}+ \\bar{r} \\mathcal{K}^{(0)} v^{(0)}$$\n",
    "$$v_{12} = - \\frac{\\partial \\psi_{12}^{(1)}}{\\partial \\bar{r}}$$"
   ]
  },
  {
   "cell_type": "markdown",
   "metadata": {},
   "source": [
    "$$w_{11}={\\bar{r}} \\mathcal{K}^{(0)}\\left(s, t\\right) w^{(0)} - \\frac{\\psi^{(1)}_{11}}{v^{(0)}}\\frac{\\partial\\,w^{(0)}}{\\partial {\\bar{r}}}$$\n",
    "$$w_{12}=-\\frac{\\psi_{12} }{v^{(0)}}\\frac{\\partial\\,w^{(0)}}{\\partial {\\bar{r}}}$$"
   ]
  },
  {
   "cell_type": "markdown",
   "metadata": {},
   "source": [
    "$$T_{11}^{(1)} = - \\frac{\\psi_{11}^{(1)}}{v^{(0)}} \\frac{\\partial T^{(0)}}{\\partial \\bar{r}}$$\n",
    "$$T_{12}^{(1)} = - \\frac{\\psi_{12}^{(1)}}{v^{(0)}} \\frac{\\partial T^{(0)}}{\\partial \\bar{r}}$$"
   ]
  },
  {
   "cell_type": "markdown",
   "metadata": {},
   "source": [
    "$$p_{11}= -{\\bar{r}} \\mathcal{K}^{(0)} {w^{(0)}}^{2} - {\\alpha} {\\bar{r}} \\tilde{T}^{(0)} z_\\text{n}^{(0)} +  u^{(1)}_{12} \\frac{\\partial {\\bar{r}} v^{(0)}}{\\partial {\\bar{r}}} - v^{(0)} v^{(1)}_{11}$$\n",
    "$$p_{12} = -{\\alpha} {\\bar{r}} \\tilde{T}^{(0)} z_\\text{b}^{(0)} -  u^{(1)}_{11} \\frac{\\partial {\\bar{r} v^{(0)}}}{\\partial {\\bar{r}}} - v^{(0)} v^{(1)}_{12}$$"
   ]
  },
  {
   "cell_type": "markdown",
   "metadata": {},
   "source": [
    "We also can use: \n",
    "$$  \\psi^{(1)}_{11} = \\kappa^{(0)} v^{(0)} J + \\alpha z_\\text{n}^{(0)} v^{(0)} I$$\n",
    "$$    \\psi^{(1)}_{12} = \\alpha z_\\text{b}^{(0)} v^{(0)} I$$\n",
    "to simplify the expressions when devided by $v_0$"
   ]
  },
  {
   "cell_type": "markdown",
   "metadata": {},
   "source": [
    "$$T_{11}^{(1)} = -(\\mathcal{K}^{(0)}  J + \\alpha z_\\text{n}^{(0)}  I) \\frac{\\partial T^{(0)}}{\\partial \\bar{r}}$$\n",
    "$$T_{12}^{(1)} = - \\alpha z_\\text{b}^{(0)} I \\frac{\\partial T^{(0)}}{\\partial \\bar{r}}$$"
   ]
  },
  {
   "cell_type": "markdown",
   "metadata": {},
   "source": [
    "# 12) The continuity equation expansion at second order"
   ]
  },
  {
   "cell_type": "markdown",
   "metadata": {},
   "source": [
    "From asymmetrical equations solution at first order we know that:\n",
    "$$u^{(1)}=u^{(1)}_c + u^{(1)}_{11} \\cos(\\varphi) + u^{(1)}_{12} \\sin(\\varphi)$$\n",
    "$$v^{(1)}=v^{(1)}_c + v^{(1)}_{11} \\cos(\\varphi) + v^{(1)}_{12} \\sin(\\varphi)$$\n",
    "$$w^{(1)}=w^{(1)}_c + w^{(1)}_{11} \\cos(\\varphi) + w^{(1)}_{12} \\sin(\\varphi)$$"
   ]
  },
  {
   "cell_type": "markdown",
   "metadata": {},
   "source": [
    "**The symmetrical continuity equation at second order:**"
   ]
  },
  {
   "cell_type": "markdown",
   "metadata": {},
   "source": [
    "$$ \\sigma^{(0)} \\frac{\\partial {\\bar{r}}u^{(2)}_c}{\\partial {\\bar{r}}}  +  \\sigma^{(1)} \\frac{\\partial {\\bar{r}} u^{(1)}_c}{\\partial {\\bar{r}}}  + {\\bar{r}} \\frac{\\partial w^{(1)}_c}{\\partial s} + \\bar{r}  \\left(\\dot{\\mathbf{X}}^{(0)}_s\\cdot\\hat{ \\tau}^{(0)}\\right)= \\sigma^{(0)} \\mathcal{K}^{(0)} \\frac{1}{2} \\frac{\\partial \\bar{r}^2 u^{(1)}_{11}}{\\partial {\\bar{r}}}$$"
   ]
  },
  {
   "cell_type": "markdown",
   "metadata": {},
   "source": [
    "Using the stream function it becomes:\n",
    "$$ \\sigma^{(0)} \\frac{\\partial {\\bar{r}}u^{(2)}_c}{\\partial {\\bar{r}}}  +  \\sigma^{(1)} \\frac{\\partial {\\bar{r}} u^{(1)}_c}{\\partial {\\bar{r}}}  + {\\bar{r}} \\frac{\\partial w^{(1)}_c}{\\partial s} + \\bar{r}  \\left(\\dot{\\mathbf{X}}^{(0)}_s\\cdot\\hat{ \\tau}^{(0)}\\right)= \\sigma^{(0)} \\mathcal{K}^{(0)} \\frac{1}{2} \\frac{\\partial \\bar{r} \\psi^{(1)}_{12}}{\\partial {\\bar{r}}}$$\n",
    "where we have used\n",
    "$$u_{11} = \\frac{1}{\\bar{r}} \\psi^{(1)}_{12}$$"
   ]
  },
  {
   "cell_type": "markdown",
   "metadata": {},
   "source": [
    "We also have\n",
    "$$\\frac{\\partial \\bar{r} \\psi^{(1)}_{12}}{\\partial {\\bar{r}}}=  \\alpha z_\\text{b}^{(0)} \\frac{\\partial (\\bar{r} v^{(0)} I)}{\\partial {\\bar{r}}}$$"
   ]
  },
  {
   "cell_type": "markdown",
   "metadata": {},
   "source": [
    "**The asymmetrical continuity equation at second order:**"
   ]
  },
  {
   "cell_type": "markdown",
   "metadata": {},
   "source": [
    "$${\\bar{r}} \\sigma^{(0)} \\frac{\\partial u^{(2)}_a}{\\partial {\\bar{r}}}  + \\sigma^{(0)} u^{(2)}_a + \\sigma^{(0)} \\frac{\\partial v^{(2)}_a}{\\partial \\varphi} + soc_{11} \\cos(\\varphi) + soc_{12} \\sin(\\varphi)+ soc_{21}\\cos(2\\varphi) + soc_{22} \\sin(2\\varphi)=0 $$\n",
    "with\n",
    "$$soc_{11} = -{\\bar{r}}^{2} \\mathcal{K}^{(0)}\\sigma^{(0)}\\frac{\\partial\\,u^{(1)}_c}{\\partial {\\bar{r}}} - 2 \\, {\\bar{r}} \\mathcal{K}^{(0)}\\sigma^{(0)}u^{(1)}_c- {\\bar{r}} \\mathcal{T}^{(0)}\\sigma^{(0)}w^{(1)}_{12}+ {\\bar{r}} \\sigma^{(1)}\\frac{\\partial\\,u^{(1)}_{11}}{\\partial {\\bar{r}}} + \\sigma^{(1)}u^{(1)}_{11}+ \\sigma^{(1)}v^{(1)}_{12}+ {\\bar{r}} \\frac{\\partial\\,w^{(1)}_{11}}{\\partial s}$$\n",
    "$$soc_{12} = {\\bar{r}} \\mathcal{K}^{(1)}\\sigma^{(0)}v^{(0)}+ {\\bar{r}} \\mathcal{K}^{(0)}\\sigma^{(1)}v^{(0)}+ {\\bar{r}} \\mathcal{K}^{(0)}\\sigma^{(0)}v^{(1)}_c+ {\\bar{r}} \\mathcal{T}^{(0)}\\sigma^{(0)}w^{(1)}_{11}+ {\\bar{r}} \\sigma^{(1)}\\frac{\\partial\\,u^{(1)}_{12}}{\\partial {\\bar{r}}} + \\sigma^{(1)}u^{(1)}_{12}- \\sigma^{(1)}v^{(1)}_{11}+ {\\bar{r}} \\frac{\\partial\\,w^{(1)}_{12}}{\\partial s}$$\n",
    "$$soc_{12} = -\\frac{1}{2} \\, {\\bar{r}}^{2} \\mathcal{K}^{(0)}\\sigma^{(0)}\\frac{\\partial\\,u^{(1)}_{11}}{\\partial {\\bar{r}}} - {\\bar{r}} \\mathcal{K}^{(0)}\\sigma^{(0)}u^{(1)}_{11}- {\\bar{r}} \\mathcal{K}^{(0)}\\sigma^{(0)}v^{(1)}_{12}$$\n",
    "$$soc_{22} =  -\\frac{1}{2} \\, {\\bar{r}}^{2} \\mathcal{K}^{(0)} \\sigma^{(0)} \\frac{\\partial\\,u^{(1)}_{12}}{\\partial {\\bar{r}}} - {\\bar{r}} \\mathcal{K}^{(0)} \\sigma^{(0)} u^{(1)}_{12} + {\\bar{r}} \\mathcal{K}^{(0)} \\sigma^{(0)} v^{(1)}_{11}$$"
   ]
  },
  {
   "cell_type": "markdown",
   "metadata": {},
   "source": [
    "# 13) The internal energy equation expansion at second order"
   ]
  },
  {
   "cell_type": "markdown",
   "metadata": {},
   "source": [
    "From asymmetrical NS solution at first order we know that:\n",
    "$$u^{(1)}=u^{(1)}_c + u^{(1)}_{11} \\cos(\\varphi) + u^{(1)}_{12} \\sin(\\varphi)$$\n",
    "$$v^{(1)}=v^{(1)}_c + v^{(1)}_{11} \\cos(\\varphi) + v^{(1)}_{12} \\sin(\\varphi)$$\n",
    "$$w^{(1)}=w^{(1)}_c + w^{(1)}_{11} \\cos(\\varphi) + w^{(1)}_{12} \\sin(\\varphi)$$\n",
    "$$T^{(1)}=T^{(1)}_c + T^{(1)}_{11} \\cos(\\varphi) + T^{(1)}_{12} \\sin(\\varphi)$$"
   ]
  },
  {
   "cell_type": "markdown",
   "metadata": {},
   "source": [
    "$$\\frac{\\partial T^{(0)}}{\\partial \\bar{r}} u^{(2)}_c + \\frac{w^{(0)}}{\\sigma^{(0)}} \\frac{\\partial T^{(1)}_c}{\\partial s} + \\frac{1}{\\sigma^{(0)}} \\frac{\\partial T^{(0)}}{\\partial s}{w^{(1)}_c} + \\frac{\\partial T^{(1)}_c}{\\partial \\bar{r}} u^{(1)}_c +\\frac{\\partial T^{(0)}}{\\partial t} - \\frac{\\sigma^{(1)}}{(\\sigma^{(0)})^2} w^{(0)} \\frac{\\partial T^{(0)}}{\\partial s}\\\\ \n",
    "+ \\frac{1}{2} \\left(u_{11}^{(1)}\\frac{\\partial T_{11}^{(1)}}{\\partial \\bar{r}}\n",
    "+ u_{12}^{(1)}\\frac{\\partial T_{12}^{(1)}}{\\partial \\bar{r}} \\right)  +\\frac{1}{2\\bar{r}} \\left(v_{11}^{(1)}T_{12}^{(1)}\n",
    "- v_{12}^{(1)}T_{11}^{(1)}\\right) = \\bar{\\eta}\\left( \\frac{\\partial^2 T^{(0)}}{\\partial {\\bar{r}^2}} + \\frac{1}{\\bar{r}}  \\frac{\\partial T^{(0)}}{\\partial \\bar{r}}  \\right)$$"
   ]
  },
  {
   "cell_type": "markdown",
   "metadata": {},
   "source": [
    "Using the stream function it becomes:\n",
    "$$\\frac{\\partial T^{(0)}}{\\partial \\bar{r}} u^{(2)}_c + \\frac{w^{(0)}}{\\sigma^{(0)}} \\frac{\\partial T^{(1)}_c}{\\partial s} + \\frac{1}{\\sigma^{(0)}} \\frac{\\partial T^{(0)}}{\\partial s}{w^{(1)}_c} + \\frac{\\partial T^{(1)}_c}{\\partial \\bar{r}} u^{(1)}_c +\\frac{\\partial T^{(0)}}{\\partial t} - \\frac{\\sigma^{(1)}}{(\\sigma^{(0)})^2} w^{(0)} \\frac{\\partial T^{(0)}}{\\partial s}\\\\ \n",
    " = \\frac{1}{2} \\, \\mathcal{K}^{(0)} \\psi^{(1)}_{12} \\frac{\\partial\\,T^{(0)}}{\\partial {\\bar{r}}} +  \\bar{\\eta}\\left( \\frac{\\partial^2 T^{(0)}}{\\partial {\\bar{r}^2}} + \\frac{1}{\\bar{r}}  \\frac{\\partial T^{(0)}}{\\partial \\bar{r}}  \\right)$$"
   ]
  },
  {
   "cell_type": "markdown",
   "metadata": {},
   "source": [
    "or\n",
    "$$\\frac{\\partial T^{(0)}}{\\partial \\bar{r}} u^{(2)}_c + \\frac{w^{(0)}}{\\sigma^{(0)}} \\frac{\\partial T^{(1)}_c}{\\partial s} + \\frac{1}{\\sigma^{(0)}} \\frac{\\partial T^{(0)}}{\\partial s}{w^{(1)}_c} + \\frac{\\partial T^{(1)}_c}{\\partial \\bar{r}} u^{(1)}_c +\\frac{\\partial T^{(0)}}{\\partial t} - \\frac{\\sigma^{(1)}}{(\\sigma^{(0)})^2} w^{(0)} \\frac{\\partial T^{(0)}}{\\partial s}\\\\ \n",
    " = \\frac{1}{2} \\, \\mathcal{K}^{(0)} \\alpha z_\\text{b} v^{(0)} I \\frac{\\partial\\,T^{(0)}}{\\partial {\\bar{r}}} +  \\bar{\\eta}\\left( \\frac{\\partial^2 T^{(0)}}{\\partial {\\bar{r}^2}} + \\frac{1}{\\bar{r}}  \\frac{\\partial T^{(0)}}{\\partial \\bar{r}}  \\right)$$"
   ]
  },
  {
   "cell_type": "markdown",
   "metadata": {},
   "source": [
    "**The asymmetrical part of energy equation at second order:**"
   ]
  },
  {
   "cell_type": "markdown",
   "metadata": {},
   "source": [
    "The equation is so:\n",
    "$$u^{(2)}_a \\frac{\\partial T^{(0)}}{\\partial {\\bar{r}}} + \\frac{v^{(0)}}{\\bar{r}} \\frac{\\partial T_a^{(2)}}{\\partial {\\varphi}}+ soe_{11} \\cos(\\varphi) + soe_{12} \\sin(\\varphi)+ soe_{21}\\cos(2\\varphi) + soe_{22} \\sin(2\\varphi)=0$$\n",
    "with\n",
    "$$soe_{11} = -T^{(1)}_{12} \\mathcal{T}^{(0)} w^{(0)} + \\frac{{\\bar{r}} \\mathcal{K}^{(0)} w^{(0)} \\frac{\\partial\\,T^{(0)}}{\\partial s}}{\\sigma^{(0)}} + u^{(1)}_c \\frac{\\partial\\,T^{(1)}_{11}}{\\partial {\\bar{r}}} + u^{(1)}_{11} \\frac{\\partial\\,T^{(1)}_c}{\\partial {\\bar{r}}} + \\frac{T^{(1)}_{12} v^{(1)}_c}{{\\bar{r}}} + \\frac{w^{(1)}_{11} \\frac{\\partial\\,T^{(0)}}{\\partial s}}{\\sigma^{(0)}} + \\frac{w^{(0)} \\frac{\\partial\\,T^{(1)}_{11}}{\\partial s}}{\\sigma^{(0)}}$$\n",
    "$$soe_{12} = T^{(1)}_{11} \\mathcal{T}^{(0)} w^{(0)} + u^{(1)}_c \\frac{\\partial\\,T^{(1)}_{12}}{\\partial {\\bar{r}}} + u^{(1)}_{12} \\frac{\\partial\\,T^{(1)}_c}{\\partial {\\bar{r}}} - \\frac{T^{(1)}_{11} v^{(1)}_c}{{\\bar{r}}} + \\frac{w^{(1)}_{12} \\frac{\\partial\\,T^{(0)}}{\\partial s}}{\\sigma^{(0)}} + \\frac{w^{(0)} \\frac{\\partial\\,T^{(1)}_{12}}{\\partial s}}{\\sigma^{(0)}}$$\n",
    "$$soe_{21} = \\frac{1}{2} \\, u^{(1)}_{11} \\frac{\\partial\\,T^{(1)}_{11}}{\\partial {\\bar{r}}} - \\frac{1}{2} \\, u^{(1)}_{12} \\frac{\\partial\\,T^{(1)}_{12}}{\\partial {\\bar{r}}} + \\frac{T^{(1)}_{12} v^{(1)}_{11}}{2 \\, {\\bar{r}}} + \\frac{T^{(1)}_{11} v^{(1)}_{12}}{2 \\, {\\bar{r}}}$$\n",
    "$$soe_{22} = \\frac{1}{2} \\, u^{(1)}_{12} \\frac{\\partial\\,T^{(1)}_{11}}{\\partial {\\bar{r}}} + \\frac{1}{2} \\, u^{(1)}_{11} \\frac{\\partial\\,T^{(1)}_{12}}{\\partial {\\bar{r}}} - \\frac{T^{(1)}_{11} v^{(1)}_{11}}{2 \\, {\\bar{r}}} + \\frac{T^{(1)}_{12} v^{(1)}_{12}}{2 \\, {\\bar{r}}}$$"
   ]
  },
  {
   "cell_type": "markdown",
   "metadata": {},
   "source": [
    "# 14) The NS equation in Boussinesq Approximation (Buoyancy) at second order"
   ]
  },
  {
   "cell_type": "markdown",
   "metadata": {},
   "source": [
    "From asymmetrical NS solution at first order we know that:\n",
    "$$u^{(1)}=u^{(1)}_c + u^{(1)}_{11} \\cos(\\varphi) + u^{(1)}_{12} \\sin(\\varphi)$$\n",
    "$$v^{(1)}=v^{(1)}_c + v^{(1)}_{11} \\cos(\\varphi) + v^{(1)}_{12} \\sin(\\varphi)$$\n",
    "$$w^{(1)}=w^{(1)}_c + w^{(1)}_{11} \\cos(\\varphi) + w^{(1)}_{12} \\sin(\\varphi)$$\n",
    "$$p^{(1)}=p^{(1)}_c + p^{(1)}_{11} \\cos(\\varphi) + p^{(1)}_{12} \\sin(\\varphi)$$\n",
    "$$\\tilde{T}^{(1)}=\\tilde{T}^{(1)}_c + \\tilde{T}^{(1)}_{11} \\cos(\\varphi) + \\tilde{T}^{(1)}_{12} \\sin(\\varphi)$$"
   ]
  },
  {
   "cell_type": "markdown",
   "metadata": {},
   "source": [
    "**Symmetrical Part of the Radial component of NS equation at second order:**"
   ]
  },
  {
   "cell_type": "markdown",
   "metadata": {},
   "source": [
    "$$  u^{(1)}_c \\frac{\\partial u^{(1)}_c}{\\partial {\\bar{r}}}  - \\frac{{v^{(1)}_c}^{2}}{{\\bar{r}}} - \\frac{2   v^{(0)} v^{(2)}_c}{{\\bar{r}}} + \\frac{w^{(0)} }{\\sigma^{(0)}} \\frac{\\partial u^{(1)}_c}{\\partial s}= - \\frac{\\partial p^{(2)}_c}{\\partial {\\bar{r}}} -\\frac{1}{2}  {\\alpha} (\\tilde{T}^{(1)}_{12} z_\\text{b}^{(0)} +  \\tilde{T}^{(1)}_{11} z_\\text{n}^{(0)}) \n",
    "-\\frac{1}{2}   {\\bar{r}} {\\mathcal{K}^{(0)}}^{2} {w^{(0)}}^{2} - \\mathcal{K}^{(0)} w^{(0)} w^{(1)}_{11} - \\frac{1}{2}   u^{(1)}_{11} \\frac{\\partial u^{(1)}_{11}}{\\partial {\\bar{r}}} - \\frac{1}{2}   u^{(1)}_{12} \\frac{\\partial u^{(1)}_{12}}{\\partial {\\bar{r}}} - \\frac{u^{(1)}_{12} v^{(1)}_{11}}{2   {\\bar{r}}} + \\frac{{v^{(1)}_{11}}^{2}}{2   {\\bar{r}}} + \\frac{u^{(1)}_{11} v^{(1)}_{12}}{2   {\\bar{r}}}+ \\frac{{v^{(1)}_{12}}^{2}}{2 {\\bar{r}}}$$"
   ]
  },
  {
   "cell_type": "markdown",
   "metadata": {},
   "source": [
    "**Symmetrical Part of the Circumferential component of NS equation at second order:**"
   ]
  },
  {
   "cell_type": "markdown",
   "metadata": {},
   "source": [
    "$$ u^{(2)}_c \\zeta^{(0)}  + u^{(1)}_c \\frac{1}{\\bar{r}}\\frac{\\partial {\\bar{r}} v^{(1)}_c}{\\partial {\\bar{r}}} +\n",
    "\\frac{1}{\\sigma^{(0)}}\\left(\\left[w^{(1)}_c  - \\frac{\\sigma^{(1)}}{{\\sigma^{(0)}}} w^{(0)}\\right]\n",
    "\\frac{\\partial v^{(0)}}{\\partial s}  + w^{(0)}\\frac{\\partial v^{(1)}_c}{\\partial s}\\right)  \n",
    "= - \\frac{\\partial v^{(0)}}{\\partial t} +\\bar{\\nu} \\frac{\\partial\\zeta^{(0)}}{\\partial {\\bar{r}}}   -\\frac{1}{2} {\\alpha} (\\tilde{T}^{(1)}_{11} z_\\text{b}^{(0)} -  \\tilde{T}^{(1)}_{12} z_\\text{n}^{(0)}) +\\mathcal{K}^{(0)} w^{(0)} w^{(1)}_{12} - \\frac{1}{2}  u^{(1)}_{11} \\frac{\\partial v^{(1)}_{11}}{\\partial {\\bar{r}}} - \\frac{1}{2}  u^{(1)}_{12} \\frac{\\partial v^{(1)}_{12}}{\\partial {\\bar{r}}} - \\frac{u^{(1)}_{11} v^{(1)}_{11}}{2  {\\bar{r}}} - \\frac{u^{(1)}_{12} v^{(1)}_{12}}{2 {\\bar{r}}} $$\n",
    "where  $$\\frac{\\partial\\zeta^{(0)}}{\\partial {\\bar{r}}} =  \\frac{\\partial^2 v^{(0)}}{\\partial \\bar{r}^2} + \\frac{1}{\\bar{r}}\\frac{\\partial v^{(0)}}{\\partial \\bar{r}} - \\frac{v^{(0)}}{{\\bar{r}}^2} $$"
   ]
  },
  {
   "cell_type": "markdown",
   "metadata": {},
   "source": [
    "Using the stream function it becomes:\n",
    "$$ u^{(2)}_c \\zeta^{(0)}  + u^{(1)}_c \\frac{1}{\\bar{r}}\\frac{\\partial {\\bar{r}} v^{(1)}_c}{\\partial {\\bar{r}}} +\n",
    "\\frac{1}{\\sigma^{(0)}}\\left(\\left[w^{(1)}_c  - \\frac{\\sigma^{(1)}}{{\\sigma^{(0)}}} w^{(0)}\\right]\n",
    "\\frac{\\partial v^{(0)}}{\\partial s}  + w^{(0)}\\frac{\\partial v^{(1)}_c}{\\partial s}\\right) \n",
    "= - \\frac{\\partial v^{(0)}}{\\partial t} + \\frac{1}{2} \\mathcal{K}^{(0)} \\psi^{(1)}_{12} \\zeta^{(0)} +\\bar{\\nu} \\frac{\\partial\\zeta^{(0)}}{\\partial {\\bar{r}}}  $$"
   ]
  },
  {
   "cell_type": "markdown",
   "metadata": {},
   "source": [
    "And using $$    \\psi^{(1)}_{12} = \\alpha z_\\text{b}^{(0)} v^{(0)} I$$\n",
    "$$u^{(2)}_c \\zeta^{(0)}  + u^{(1)}_c \\frac{1}{\\bar{r}}\\frac{\\partial {\\bar{r}} v^{(1)}_c}{\\partial {\\bar{r}}} +\n",
    "\\frac{1}{\\sigma^{(0)}}\\left(\\left[w^{(1)}_c  - \\frac{\\sigma^{(1)}}{{\\sigma^{(0)}}} w^{(0)}\\right]\n",
    "\\frac{\\partial v^{(0)}}{\\partial s}  + w^{(0)}\\frac{\\partial v^{(1)}_c}{\\partial s}\\right) = - \\frac{\\partial v^{(0)}}{\\partial t} + \\alpha \\frac{1}{2} \\mathcal{K}^{(0)}  z_\\text{b}^{(0)} v^{(0)} \\zeta^{(0)} I  +\\bar{\\nu} \\frac{\\partial\\zeta^{(0)}}{\\partial {\\bar{r}}}  $$"
   ]
  },
  {
   "cell_type": "markdown",
   "metadata": {},
   "source": [
    "If $\\alpha$, $\\mathcal{K}^{(0)}$  or $z_\\text{b}^{(0)}$ are null then the added buoyancy term is null."
   ]
  },
  {
   "cell_type": "markdown",
   "metadata": {},
   "source": [
    "**Symmetrical Part of the Axial component of NS equation at second order:**"
   ]
  },
  {
   "cell_type": "markdown",
   "metadata": {},
   "source": [
    "$$ u^{(2)}_c \\frac{\\partial w^{(0)}}{\\partial {\\bar{r}}}  + u^{(1)}_c \\frac{\\partial w^{(1)}_c}{\\partial {\\bar{r}}} + \\frac{1}{\\sigma^{(0)}} \\left[\\dot{\\mathbf{X}}^{(0)}_s\\cdot\\hat{ \\tau}^{(0)}\\right] w^{(0)} +\\frac{1}{\\sigma^{(0)}}\\left( w^{(1)}_c \\frac{\\partial w^{(0)}}{\\partial s}- \\frac{\\sigma^{(1)} w^{(0)} }{{\\sigma^{(0)}}}\\frac{\\partial w^{(0)}}{\\partial s} + w^{(0)}\\frac{ \\partial w^{(1)}_c}{\\partial s} \\right)+ \\frac{\\partial w^{(0)}}{\\partial t} = - \\frac{1}{\\sigma^{(0)}} \\frac{\\partial p^{(1)}_c}{\\partial s} + \\frac{\\sigma^{(1)}}{(\\sigma^{(0)})^2} \\frac{\\partial p^{(0)}}{\\partial s} + \\bar{\\nu} \\left( \\frac{\\partial^2 w^{(0)}}{\\partial \\bar{r}^2} + \\frac{1}{\\bar{r}}\\frac{\\partial w^{(0)}}{\\partial \\bar{r}}\\right) - \\alpha \\tilde{T}^{(1)}_c z_\\text{t}^{(0)}- \\alpha \\tilde{T}^{(0)} z_\\text{t}^{(1)}+\\frac{1}{2}   \\mathcal{K}^{(0)} u^{(1)}_{11} w^{(0)} - \\frac{1}{2}   \\mathcal{K}^{(0)} v^{(1)}_{12} w^{(0)} - \\frac{1}{2}   \\mathcal{K}^{(0)} v^{(0)} w^{(1)}_{12} - \\frac{1}{2}   u^{(1)}_{11} \\frac{\\partial w^{(1)}_{11}}{\\partial {\\bar{r}}} - \\frac{1}{2}   u^{(1)}_{12} \\frac{\\partial w^{(1)}_{12}}{\\partial {\\bar{r}}}+ \\frac{v^{(1)}_{12} w^{(1)}_{11}}{2   {\\bar{r}}} - \\frac{v^{(1)}_{11} w^{(1)}_{12}}{2   {\\bar{r}}}$$"
   ]
  },
  {
   "cell_type": "markdown",
   "metadata": {},
   "source": [
    "Using the stream function it becomes:\n",
    "$$ u^{(2)}_c \\frac{\\partial\\,w^{(0)}}{\\partial {\\bar{r}}}  + u^{(1)}_c \\frac{\\partial\\,w^{(1)}_c}{\\partial {\\bar{r}}} + \\frac{1}{\\sigma^{(0)}} \\left[\\dot{\\mathbf{X}}^{(0)}_s\\cdot\\hat{ \\tau}^{(0)}\\right] w^{(0)} +\\frac{1}{\\sigma^{(0)}}\\left( w^{(1)}_c \\frac{\\partial w^{(0)}}{\\partial s}- \\frac{\\sigma^{(1)} w^{(0)} }{{\\sigma^{(0)}}}\\frac{\\partial w^{(0)}}{\\partial s} + w^{(0)}\\frac{ \\partial w^{(1)}_c}{\\partial s} \\right)+ \\frac{\\partial w^{(0)}}{\\partial t} = \\frac{1}{2} \\mathcal{K}^{(0)}\\left(s, t\\right) \\psi^{(1)}_{12}\\left({\\bar{r}}, s, t\\right) \\frac{\\partial w^{(0)}}{\\partial {\\bar{r}}} - \\frac{1}{\\sigma^{(0)}} \\frac{\\partial p^{(1)}_c}{\\partial s} + \\frac{\\sigma^{(1)}}{(\\sigma^{(0)})^2} \\frac{\\partial p^{(0)}}{\\partial s} + \\bar{\\nu} \\left( \\frac{\\partial^2 w^{(0)}}{\\partial \\bar{r}^2} + \\frac{1}{\\bar{r}}\\frac{\\partial w^{(0)}}{\\partial \\bar{r}}\\right) - \\alpha \\tilde{T}^{(1)}_c z_\\text{t}^{(0)}- \\alpha \\tilde{T}^{(0)} z_\\text{t}^{(1)}$$"
   ]
  },
  {
   "cell_type": "markdown",
   "metadata": {},
   "source": [
    "Important remark: it is important to notice that $\\psi^{(1)}_{12}$ is proportional to $\\alpha$.\n",
    "$$    \\psi^{(1)}_{12} = \\alpha z_\\text{b}^{(0)} v^{(0)} I$$\n",
    "where \n",
    "$$I =  \\int_0^{\\bar{r}} \\frac{1}{z(v^{(0)})^2}\\left[\\int_0^{z}{\\xi}^2\\tilde{T}^{(0)}_{\\xi}\\; d\\xi\\right]dz$$\n",
    "only depends on the velocity and temperature field."
   ]
  },
  {
   "cell_type": "markdown",
   "metadata": {},
   "source": [
    "$$ u^{(2)}_c \\frac{\\partial\\,w^{(0)}}{\\partial {\\bar{r}}}  + u^{(1)}_c \\frac{\\partial\\,w^{(1)}_c}{\\partial {\\bar{r}}} + \\frac{1}{\\sigma^{(0)}} \\left[\\dot{\\mathbf{X}}^{(0)}_s\\cdot\\hat{ \\tau}^{(0)}\\right] w^{(0)} +\\frac{1}{\\sigma^{(0)}}\\left( w^{(1)}_c \\frac{\\partial w^{(0)}}{\\partial s}- \\frac{\\sigma^{(1)} w^{(0)} }{{\\sigma^{(0)}}}\\frac{\\partial w^{(0)}}{\\partial s} + w^{(0)}\\frac{ \\partial w^{(1)}_c}{\\partial s} \\right)+ \\frac{\\partial w^{(0)}}{\\partial t}= \\alpha \\frac{1}{2} \\mathcal{K}^{(0)}\\left(s, t\\right)  z_\\text{b} v^{(0)} I\\left({\\bar{r}}, s, t\\right) \\frac{\\partial w^{(0)}}{\\partial {\\bar{r}}} - \\frac{1}{\\sigma^{(0)}} \\frac{\\partial p^{(1)}_c}{\\partial s} + \\frac{\\sigma^{(1)}}{(\\sigma^{(0)})^2} \\frac{\\partial p^{(0)}}{\\partial s} + \\bar{\\nu} \\left( \\frac{\\partial^2 w^{(0)}}{\\partial \\bar{r}^2} + \\frac{1}{\\bar{r}}\\frac{\\partial w^{(0)}}{\\partial \\bar{r}}\\right) - \\alpha \\tilde{T}^{(1)}_c z_\\text{t}^{(0)}- \\alpha \\tilde{T}^{(0)} z_\\text{t}^{(1)}$$"
   ]
  },
  {
   "cell_type": "markdown",
   "metadata": {},
   "source": [
    "# 15) The kinetic energy at first and second order"
   ]
  },
  {
   "cell_type": "markdown",
   "metadata": {},
   "source": [
    "**The kinetic energy at leading order**\n",
    "It is 0=0"
   ]
  },
  {
   "cell_type": "markdown",
   "metadata": {},
   "source": [
    "**The symmetric kinetic energy at first order**"
   ]
  },
  {
   "cell_type": "markdown",
   "metadata": {},
   "source": [
    "We have\n",
    "$$\\mathcal{Z}_c^{(0)}(s,t) =  \\hat{\\mathbf{z}} \\cdot \\left[\\mathbf{X}^{(0)}(s,t)-\\mathbf{X}^{(0)}(0,t)\\right]=\\int_{0}^{s}\\sigma^{(0)}(s',t) z_\\text{t}^{(0)}(s',t) ds$$ \n",
    "and\n",
    "$${\\cal{H}}^{(0)}(\\bar{r},s,t)=p^{(0)}(\\bar{r},s,t)+\\left[{v^{(0)}(\\bar{r},s,t)}^2+{w^{(0)}(\\bar{r},s,t)}^2\\right]/2 + \\alpha {\\tilde{T}}^{(0)}(\\bar{r},s,t) \\mathcal{Z}_c^{(0)}(s,t)$$ \n",
    "\n",
    "$$\\frac{w^{(0)}}{\\sigma^{(0)}}\\frac{\\partial {\\cal{H}}^{(0)}}{\\partial s} +u_c^{(1)}\\frac{\\partial {\\cal{H}}^{(0)}}{\\partial \\bar{r}} =0$$\n",
    "where we have used \n",
    "\n",
    "$$ \\frac{w^{(0)}}{\\sigma^{(0)}} \\frac{\\partial T^{(0)}}{\\partial s} + u^{(1)}_c \\frac{\\partial T^{(0)}}{\\partial \\bar{r}} =0$$"
   ]
  },
  {
   "cell_type": "markdown",
   "metadata": {},
   "source": [
    "**The symmetric kinetic energy at second order**"
   ]
  },
  {
   "cell_type": "markdown",
   "metadata": {},
   "source": [
    "We have\n",
    "$$\\mathcal{Z}_c^{(1)}(s,t) =  \\hat{\\mathbf{z}} \\cdot \\left[\\mathbf{X}^{(1)}(s,t)-\\mathbf{X}^{(1)}(0,t)\\right]=\\int_{0}^{s}\\sigma^{(1)}(s',t) z_\\text{t}^{(0)}(s',t) ds + \\int_{0}^{s}\\sigma^{(0)}(s',t) z_\\text{t}^{(1)}(s',t) ds.$$ \n",
    "and \n",
    "$${\\cal{H}}^{(1)}_c(\\bar{r},s,t)=p^{(1)}_c +\\left[v^{(0)} v^{(1)}_c+ w^{(0)} w^{(1)}_c\\right] + \\alpha [{\\tilde{T}}^{(1)}_c\\mathcal{Z}_c^{(0)}(s,t)+ \\bar{\\tilde{T}}^{(0)}_c \\mathcal{Z}_c^{(1)}(s,t)].$$ \n",
    "\n",
    "$$u_c^{(2)}\\frac{\\partial \\mathcal{H}^{(0)}}{\\partial\\bar{r}} +u_c^{(1)}\\frac{\\partial\\mathcal{H}^{(1)}_c}{\\partial\\bar{r}} + \\frac{w^{(0)}}{\\sigma^{(0)}}\\frac{\\partial\\mathcal{H}^{(1)}_c}{\\partial s}+ \\frac{\\sigma^{(1)}}{\\sigma^{(0)}}u_c^{(1)}\\frac{\\partial\\mathcal{H}^{(0)}}{\\partial \\bar{r}}  + \\frac{w_c^{(1)}}{\\sigma^{(0)}}\\frac {\\partial  \\mathcal{H}^{(0)}}{\\partial s}+\\frac{\\partial \\mathcal{H}^{(0)}}{\\partial t}-\\frac{\\partial \\mathcal{p}^{(0)}}{\\partial t} + \\left[\\frac{\\partial \\dot{\\mathbf{X}}^{(0)}}{\\partial s}\\cdot\\hat{\\tau}^{(0)}\\right] \\frac{\\left(w^{(0)}\\right)^2}{\\sigma^{(0)}} = \\alpha T^{(0)} \\frac{\\partial \\mathcal{Z}_c^{(0)}(s,t)}{\\partial t}+ \\bar{\\nu} \\left[\\frac{\\mathcal{G}^{(0)}}{\\bar{r}^2}\\left(\\mathcal{G}^{(0)}_{\\bar{r}\\bar{r}}-\\frac{\\mathcal{G}^{(0)}_{\\bar{r}}}{\\bar{r}}\\right)+ \\frac{w^{(0)}}{\\bar{r}}\\left(\\bar{r}w^{(0)}_{\\bar{r}}\\right)_{\\bar{r}}\\right] +\\frac{\\alpha}{2\\bar{r}} \\mathcal{K}^{(0)} z_b^{(0)} \\mathcal{G}^{(0)} I  \\frac{\\partial \\mathcal{H}^{(0)}}{\\partial \\bar{r}}+ \\alpha \\bar{\\eta} \\mathcal{Z}_c^{(0)}(s,t) \\left(\\frac{\\partial^2 T^{(0)}}{\\partial\\bar{r}^2}+\\frac{1}{\\bar{r}} \\frac{\\partial T^{(0)}}{\\partial\\bar{r}}\\right)$$"
   ]
  },
  {
   "cell_type": "markdown",
   "metadata": {},
   "source": [
    "# 16) The symmetrical equations: the stream function and the Von Mises  transformation"
   ]
  },
  {
   "cell_type": "markdown",
   "metadata": {},
   "source": [
    "Here we will see the general formulas of transformation"
   ]
  },
  {
   "cell_type": "markdown",
   "metadata": {},
   "source": [
    "Remark : About the Von Mises transformation: https://www.researchgate.net/publication/228734833_Recent_developments_in_the_von_Mises_transformation_and_its_applications_in_the_computational_sciences"
   ]
  },
  {
   "cell_type": "markdown",
   "metadata": {},
   "source": [
    "A symmetrical field is noted $f_c=f_c(\\bar{r},s,t)$. We introduce a \"stream function\" $\\bar{M}=\\cal{M}(\\bar{r},s,t)$. We will see later why it is called a \"stream\" function.\n",
    "\n",
    "Remark: We prefer to call it $\\cal{M}$ rather than $\\psi_c$ (even if we may used to use psi for a stream function). "
   ]
  },
  {
   "cell_type": "markdown",
   "metadata": {},
   "source": [
    "We will do the following change of coordinates (known as the Von Mises variables):\n",
    "$$({\\cal{M}},id):\\mathbb{R}^3 \\longrightarrow  \\mathbb{R}^3 \\\\\n",
    "  \\left(\\bar{r},s,t\\right)  \\longmapsto  \\left(\\bar{M},s,t\\right)$$\n",
    "\n",
    "$$f_c\\left(\\bar{r},s,t\\right) = \\bar{f}_c\\left(\\bar{M},s,t\\right) = f_c\\left(\\cal{M}(\\bar{r},s,t),s,t\\right)$$\n",
    "As usual we may still use the same notation for the field $f_c$ over the space whatever is the chosen coordinates, even if it is not the same mathematical function and so write $$\\bar{f}_c\\left(\\bar{M},s,t\\right) = f_c\\left(\\bar{M},s,t\\right)$$"
   ]
  },
  {
   "cell_type": "markdown",
   "metadata": {},
   "source": [
    "If we invert this relation (when possible) we will that the inverse change of coordinate is $\\bar{r} = {\\bar{\\cal{R}}}(\\bar{M},s,t)$ where ${\\bar{\\cal{R}}} = {\\cal{M}}^{-1}.$ \n",
    "$$({\\bar{\\cal{R}}},id):\\mathbb{R}^3 \\longrightarrow  \\mathbb{R}^3 \\\\\n",
    "    \\left(\\bar{M},s,t\\right) \\longmapsto \\left(\\bar{r},s,t\\right)$$\n",
    "\n",
    "$\\cal{R}$ exist only at regular point $\\boldsymbol{x}(\\bar{r},s,t)$ where $\\left(\\frac{\\partial \\cal{M}}{\\partial \\bar{r}}\\right)_{s}(\\boldsymbol{x})\\neq 0$. It means that  the Jacobian is not zero."
   ]
  },
  {
   "cell_type": "markdown",
   "metadata": {},
   "source": [
    "The curve in $(\\bar{r},s,t)$ when $\\bar{M}=\\cal{M}(\\bar{r},s,t)=cst$ is a streamline (we will see why next)."
   ]
  },
  {
   "cell_type": "markdown",
   "metadata": {},
   "source": [
    "We define \n",
    "$$\\Gamma(\\bar{r},s,t) =2 \\pi \\int_0^{\\bar{r}} [\\bar{r} \\zeta] d\\bar{r} =2 \\pi \\bar{r} = 2 \\pi  \\cal{G}(\\bar{r},s,t)$$\n",
    "the circulation around a the boundary of a circular disk of radius $\\bar{r}$. It is the flux of the axial vorticity through a  circular disk of radius $\\bar{r}$.\n",
    "$$ \\cal{G}= \\bar{r} v$$\n",
    "We use \"G\" for circulation as the first letter of \"gamma\"."
   ]
  },
  {
   "cell_type": "markdown",
   "metadata": {},
   "source": [
    "We define \n",
    "$$M(\\bar{r},s,t) = 2 \\pi \\int_0^{\\bar{r}} w(\\bar{r},s,t) \\bar{r} d\\bar{r}  = 2 \\pi \\cal{M}(\\bar{r},s,t)$$\n",
    "the axial mass flux through a  circular disk of radius $\\bar{r}$. We use \"M\" as the first lettre of \"mass flux\".\n",
    "$$\\cal{M}(\\bar{r},s,t) = \\int_0^{\\bar{r}} w(\\bar{r},s,t) \\bar{r} d\\bar{r}$$"
   ]
  },
  {
   "cell_type": "markdown",
   "metadata": {},
   "source": [
    "We have\n",
    "$$\\left(\\frac{\\partial f_c}{\\partial \\bar{r}}\\right)_s = \\left(\\frac{\\partial \\bar{f}_c}{\\partial \\bar{M}}\\right)_s \\left(\\frac{\\partial \\cal{M}}{\\partial \\bar{r}}\\right)_s  $$\n",
    "$$\\left(\\frac{\\partial f_c}{\\partial s}\\right)_{\\bar{r}} = \\left(\\frac{\\partial \\bar{f}_c}{\\partial \\bar{M}}\\right)_s \\left(\\frac{\\partial \\cal{M}}{\\partial s}\\right)_{\\bar{r}}  + \\left(\\frac{\\partial \\bar{f}_c}{\\partial s}\\right)_\\bar{M}$$"
   ]
  },
  {
   "cell_type": "markdown",
   "metadata": {},
   "source": [
    "Using exact mathemathical expressions of functions, it would be written:\n",
    "$$\\left(\\frac{\\partial f_c}{\\partial \\bar{r}}\\right)_s \n",
    "=\\left(\\frac{\\partial (\\bar{f}_c \\circ {\\cal{M}})}{\\partial \\bar{r}}\\right)_s = \\left[\\left(\\frac{\\partial \\bar{f}_c}{\\partial \\bar{M}}\\right)_s \\circ {\\cal{M}}\\right] \\left(\\frac{\\partial \\cal{M}}{\\partial \\bar{r}}\\right)_s$$\n",
    "\n",
    "Important remark: in $\\frac{\\partial }{\\partial \\bar{M}}$ , $\\bar{M}$ **only mean the derivative with regard to the first variable**. \n",
    "\n",
    "Remark: It is so sometimes written $\\frac{\\partial }{\\partial \\cal{M}}.$ Also  $\\frac{\\partial \\cal{M}}{\\partial}$ is sometimes written $\\frac{\\partial \\bar{M}}{\\partial}.$\n",
    "\n",
    "So in sagemath it is written:\n",
    "$$\\left(\\frac{\\partial f_c}{\\partial \\bar{r}}\\right)_s (\\bar{r},s)\n",
    "=\\left(\\frac{\\partial (\\bar{f}_c \\circ {\\cal{M}})}{\\partial \\bar{r}}\\right)_s (\\bar{r},s) = D_{0}(f_c) ({\\cal{M}}(\\bar{r},s),s) \\left(\\frac{\\partial \\cal{M}}{\\partial \\bar{r}}\\right)_s (\\bar{r},s).$$ \n",
    "First is 0, second is 1, ... \n",
    "\n",
    "It is not using $\\bar{f}_c$ abut use the $D_i$ operator to distinguish the partial derivatives in the two diferent spaces of coordinates.\n",
    "\n",
    "\n",
    "However in physic (to check homogeneity and physical meaning), we will prefer to write it:\n",
    "$$\\left(\\frac{\\partial f_c}{\\partial \\bar{r}}\\right)_s (\\bar{r},s)\n",
    "=\\left(\\frac{\\partial (f_c \\circ {\\cal{M}})}{\\partial \\bar{r}}\\right)_s (\\bar{r},s) = D_{\\bar{M}}(f_c) ({\\cal{M}}(\\bar{r},s),s) \\left(\\frac{\\partial \\cal{M}}{\\partial \\bar{r}}\\right)_s (\\bar{r},s)$$ \n",
    "\n",
    "It is it is simpler and clearer to use this \"D-Notation\" (ref Multivariable case in https://en.wikipedia.org/wiki/Chain_rule): or the \"Euler's notation\"."
   ]
  },
  {
   "cell_type": "markdown",
   "metadata": {},
   "source": [
    "We also have from the inverse \n",
    "$$\\left(\\frac{\\partial \\bar{f}_c}{\\partial s}\\right)_\\bar{M} = \\left(\\frac{\\partial f_c}{\\partial \\bar{r}}\\right)_s \\left(\\frac{\\partial {\\bar{\\cal{R}}}}{\\partial s}\\right)_\\bar{M} + \\left(\\frac{\\partial f_c}{\\partial s}\\right)_\\bar{r}$$\n",
    "$$\\left(\\frac{\\partial \\bar{f}_c}{\\partial \\bar{M}}\\right)_s = \\left(\\frac{\\partial f_c}{\\partial \\bar{r}}\\right)_s \\left(\\frac{\\partial {\\bar{\\cal{R}}} }{\\partial \\bar{M}}\\right)_s + \\left(\\frac{\\partial f_c}{\\partial s}\\right)_\\bar{r}$$"
   ]
  },
  {
   "cell_type": "markdown",
   "metadata": {},
   "source": [
    "# 16) Compatibility conditions at first order and the Von Mises transformation"
   ]
  },
  {
   "cell_type": "markdown",
   "metadata": {},
   "source": [
    "**a) Symmetrical continuity equation at first order**"
   ]
  },
  {
   "cell_type": "markdown",
   "metadata": {},
   "source": [
    "We define \n",
    "$$ \\cal{M}^{(0)}(\\bar{r},s,t) = \\int_0^{\\bar{r}} w^{(0)}(\\bar{r}',s,t) \\bar{r}' d\\bar{r}'$$\n",
    "the axial mass flux through a  circular disk of radius $\\bar{r}$."
   ]
  },
  {
   "cell_type": "markdown",
   "metadata": {},
   "source": [
    "The leading circumferential vorticity is $\\omega_2^{(0)}=-\\frac{\\partial (w^{(0)})}{\\partial \\bar{r}}$ and so $$ \\cal{M}^{(0)}(\\bar{r},s,t) = \\frac{w^{(0)}\\bar{r}^2}{2} + \\frac{1}{2}\\int_0^{\\bar{r}} \\omega_2^{(0)}(\\bar{r}',s,t) \\bar{r}'^2 d\\bar{r}'$$"
   ]
  },
  {
   "cell_type": "markdown",
   "metadata": {},
   "source": [
    "We define \n",
    "$$\\cal{G}^{(0)} = \\int_0^{\\bar{r}}\\zeta^{(0)} \\bar{r}'d\\bar{r}' = \\bar{r} v^{(0)}$$\n",
    "the circulation around a the boundary of a circular disk of radius $\\bar{r}$. It is the flux of the axial vorticity $\\zeta^{(0)}$ through a  circular disk of radius $\\bar{r}$\n",
    "$$\\zeta^{(0)}=\\frac{1}{\\bar{r}}\\frac{\\partial (\\bar{r}v^{(0)})}{\\partial \\bar{r}}=\\zeta^{(0)}=\\frac{1}{\\bar{r}}\\frac{\\partial \\cal{G}^{(0)}}{\\partial \\bar{r}}$$"
   ]
  },
  {
   "cell_type": "markdown",
   "metadata": {},
   "source": [
    "We have the symmetrical continuity equation at first order:\n",
    "$$ \\sigma^{(0)} \\frac{\\partial {\\bar{r}} u^{(1)}_c}{\\partial {\\bar{r}}}  + {\\bar{r}} \\frac{\\partial w^{(0)}}{\\partial s}=0$$"
   ]
  },
  {
   "cell_type": "markdown",
   "metadata": {},
   "source": [
    "So we define the stream function \n",
    "$$u^{(1)}_c = -\\frac{1}{\\sigma^{(0)}\\bar{r}} \\left(\\frac{\\partial \\cal{M}^{(0)}}{\\partial s}\\right)_\\bar{r}$$\n",
    "$$w^{(0)} = \\frac{1}{\\bar{r}} \\left(\\frac{\\partial \\cal{M}^{(0)}}{\\partial \\bar{r}}\\right)_s$$"
   ]
  },
  {
   "cell_type": "markdown",
   "metadata": {},
   "source": [
    "Remark: Streamlines are a family of curves whose tangent vectors constitute the velocity vector field of the flow. The grad vector on the $(\\bar{r},s)$ plane is \n",
    "$$[\\left(\\frac{\\partial \\cal{M}^{(0)}}{\\partial \\bar{r}}\\right)_s,\\frac{1}{\\sigma^{(0)}} \\left(\\frac{\\partial \\cal{M}^{(0)}}{\\partial s}\\right)_\\bar{r}] $$ and is perpendicular to the tangent to the stream line that is so \n",
    "$$[-\\frac{1}{\\sigma^{(0)}} \\left(\\frac{\\partial \\cal{M}^{(0)}}{\\partial s}\\right)_\\bar{r},\\left(\\frac{\\partial \\cal{M}^{(0)}}{\\partial \\bar{r}}\\right)_s]$$ (as you can see that their dot product is zero). And so is colinear to the velocity $[u^{(1)}_c,w^{(0)}]$ with a factor $1/\\bar{r}$ as we can see from the above definition of $\\cal{M}^{(0)}$"
   ]
  },
  {
   "cell_type": "markdown",
   "metadata": {},
   "source": [
    "**b) The symmetrical part of the circumferential component of NS equation at first order**"
   ]
  },
  {
   "cell_type": "markdown",
   "metadata": {},
   "source": [
    "$$\\frac{1}{\\bar{r}}\\frac{\\partial \\bar{r} v^{(0)}}{\\partial \\bar{r}} u^{(1)}_c  + \\frac{w^{(0)}}{\\sigma^{(0)}} \\frac{\\partial v^{(0)}}{\\partial s} = 0$$\n",
    "can be written\n",
    "$$\\frac{\\partial \\cal{G}^{(0)}}{\\partial \\bar{r}} (-\\sigma^{(0)}\\bar{r} u^{(1)}_c)  -\\bar{r} w^{(0)} \\frac{\\partial \\cal{G}^{(0)}}{\\partial s} = 0$$\n",
    "$$\\left(\\frac{\\partial \\cal{G}^{(0)}}{\\partial \\bar{r}}\\right)_s \\left(\\frac{\\partial \\cal{M}^{(0)}}{\\partial s}\\right)_\\bar{r}  -\\left(\\frac{\\partial \\cal{M}^{(0)}}{\\partial \\bar{r}}\\right)_s \\left(\\frac{\\partial \\cal{G}^{(0)}}{\\partial s}\\right)_\\bar{r} = 0$$\n"
   ]
  },
  {
   "cell_type": "markdown",
   "metadata": {},
   "source": [
    "But with $f_c=\\cal{G}^{(0)}$ we also have:\n",
    "$$\\left(\\frac{\\partial \\cal{G}^{(0)}}{\\partial \\bar{r}}\\right)_s = \\left(\\frac{\\partial \\bar{\\cal{G}}^{(0)}}{\\partial \\bar{M}}\\right)_s \\left(\\frac{\\partial \\cal{M}^{(0)}}{\\partial \\bar{r}}\\right)_s  $$\n",
    "$$\\left(\\frac{\\partial \\cal{G}^{(0)}}{\\partial s}\\right)_{\\bar{r}} = \\left(\\frac{\\partial \\bar{\\cal{G}}^{(0)}}{\\partial \\bar{M}}\\right)_s \\left(\\frac{\\partial \\cal{M}^{(0)}}{\\partial s}\\right)_{\\bar{r}}  + \\left(\\frac{\\partial \\bar{\\cal{G}}^{(0)}}{\\partial s}\\right)_\\bar{M}$$\n",
    "\n",
    "Multiplying the first equation by $\\left(\\frac{\\partial \\cal{M}^{(0)}}{\\partial s}\\right)_{\\bar{r}}$, the second by $\\left(\\frac{\\partial \\cal{M}^{(0)}}{\\partial \\bar{r}}\\right)_{s}$ and substracting it comes\n",
    "$$\\left(\\frac{\\partial \\cal{G}^{(0)}}{\\partial \\bar{r}}\\right)_s \\left(\\frac{\\partial \\cal{M}^{(0)}}{\\partial \\bar{r}}\\right)_s  -\\left(\\frac{\\partial \\cal{M}^{(0)}}{\\partial \\bar{r}}\\right)_s \\left(\\frac{\\partial \\cal{G}^{(0)}}{\\partial s}\\right)_\\bar{r} = - \\left(\\frac{\\partial \\cal{M}^{(0)}}{\\partial s}\\right)_{\\bar{r}} \\left(\\frac{\\partial \\bar{\\cal{G}}^{(0)}}{\\partial s}\\right)_{\\bar{M}} =0$$\n",
    "and so $$\\left(\\frac{\\partial \\bar{\\cal{G}}^{(0)}}{\\partial s}\\right)_{\\bar{M}}=0$$ if we are not at a poit $\\boldsymbol{x}$ such that $\\left(\\frac{\\partial \\cal{M}^{(0)}}{\\partial \\bar{r}}\\right)_{s}(\\boldsymbol{x})\\neq 0$ which means $w^{(0)}(\\boldsymbol{x})\\neq 0$ (we should not have a point where the axial velocity is zero). This is again the condition for the Von Mises variable to exist."
   ]
  },
  {
   "cell_type": "markdown",
   "metadata": {},
   "source": [
    "We interpret so $$\\left(\\frac{\\partial \\bar{\\cal{G}}^{(0)}}{\\partial s}\\right)_\\bar{M}=0$$  by\n",
    "$$\\bar{\\cal{G}}^{(0)}(\\bar{M},s,t)=\\bar{\\cal{G}}^{(0)}(\\bar{M},t)$$"
   ]
  },
  {
   "cell_type": "markdown",
   "metadata": {},
   "source": [
    "Let's notice that with $f_c=\\cal{G}^{(0)}$ \n",
    "$$0= \\left(\\frac{\\partial \\bar{\\cal{G}}^{(0)}}{\\partial s}\\right)_{\\bar{M}} = \\left(\\frac{\\partial \\cal{G}^{(0)}}{\\partial \\bar{r}}\\right)_s \\left(\\frac{\\partial {\\bar{\\cal{R}}}^{(0)}}{\\partial s}\\right)_{\\bar{M}} + \\left(\\frac{\\partial \\cal{G}^{(0)}}{\\partial s}\\right)_\\bar{r}$$\n",
    "and so $$\\left(\\frac{\\partial {\\bar{\\cal{R}}}^{(0)}}{\\partial s}\\right)_{\\bar{M}}= - \\left(\\frac{\\partial \\cal{G}^{(0)}}{\\partial s}\\right)_\\bar{r}/ \\left(\\frac{\\partial \\cal{G}^{(0)}}{\\partial \\bar{r}}\\right)_s=\\sigma^{(0)} u^{(1)}_c/w^{(0)}$$\n",
    "where we are allowed to devide by $w^{(0)}$ as we are in the case when the Von Mises variables are bijective.\n",
    "\n",
    "Remark: At a point $\\boldsymbol{x}$ where $w^{(0)}(\\boldsymbol{x})=0$ then ${\\cal{M}}(\\boldsymbol{x})=0$ and $u_c^{(1)}(\\boldsymbol{x})=0$\n",
    "\n",
    "We define $$D_s=\\left(\\frac{\\partial }{\\partial s}\\right)_{\\bar{M}}$$\n",
    "This is the same definition as in sagemath (except that sagemath write it $D_1$\n",
    "\n",
    "We have\n",
    "$$\\left(\\frac{\\partial }{\\partial s}\\right)_{\\bar{M}} = \\left(\\frac{\\partial }{\\partial \\bar{r}}\\right)_s \\left(\\frac{\\partial {\\bar{\\cal{R}}}^{(0)}}{\\partial s}\\right)_{\\bar{M}} + \\left(\\frac{\\partial }{\\partial s}\\right)_\\bar{r}$$"
   ]
  },
  {
   "cell_type": "markdown",
   "metadata": {},
   "source": [
    "Let us define the inverse of this derivative that we write $\\int_{\\mathcal{S}}$ as an integration with $\\bar{M}$ fixed, that is to say an integration along a streamline.  Here the letter $\\mathcal{S}$ refers to the letter S of streamline.\n",
    "\n",
    "This integration $$\\bar{f}(\\bar{M},s)= \\int_{\\mathcal{S}}^{[0,s]}g(\\bar{M},s')\\;ds'$$ is the solution of $$D_s(f)(\\bar{M},s)=g(\\bar{M},s).$$ "
   ]
  },
  {
   "cell_type": "markdown",
   "metadata": {},
   "source": [
    "We have for such integral:\n",
    "$$\\int_{\\mathcal{S}}^{[s_1,s_2]} [\\left(\\frac{\\partial \\bar{f}}{\\partial s}\\right)_{\\bar{M}}(\\bar{M},s)] ds = \\bar{f}(\\bar{M},s_2)-\\bar{f}(\\bar{M},s_1)$$"
   ]
  },
  {
   "cell_type": "markdown",
   "metadata": {},
   "source": [
    "**c) The internal energy equation at first order**"
   ]
  },
  {
   "cell_type": "markdown",
   "metadata": {},
   "source": [
    "$$\\frac{\\partial T^{(0)}}{\\partial \\bar{r}} u^{(1)}_c  + \\frac{w^{(0)}}{\\sigma^{(0)}} \\frac{\\partial T^{(0)}}{\\partial s}=0$$"
   ]
  },
  {
   "cell_type": "markdown",
   "metadata": {},
   "source": [
    "We find \n",
    "$$\\left(\\frac{\\partial \\bar{\\tilde{T}}^{(0)}}{\\partial s}\\right)_\\bar{M}=0.$$ It means \n",
    "$$\\bar{\\tilde{T}}^{(0)}(\\bar{M},s,t)=\\bar{\\tilde{T}}^{(0)}(\\bar{M},t)$$"
   ]
  },
  {
   "cell_type": "markdown",
   "metadata": {},
   "source": [
    "**d) The symmetrical mechanical kinetic energy equation at first order**"
   ]
  },
  {
   "cell_type": "markdown",
   "metadata": {},
   "source": [
    "The symmetrical axial equation of NS at first order is:\n",
    "    $$  \\frac{\\partial w^{(0)}}{\\partial \\bar{r}} u^{(1)}_c + \\frac{w^{(0)}}{\\sigma^{(0)}} \\frac{\\partial w^{(0)}}{\\partial s} = - \\frac{1}{\\sigma^{(0)}} \\frac{\\partial p^{(0)}}{\\partial s} -\\alpha \\tilde{T}^{(0)}z_\\text{t}^{(0)}$$\n",
    "but we will not use it as we prefer to use here the kinetic energy equation."
   ]
  },
  {
   "cell_type": "markdown",
   "metadata": {},
   "source": [
    "We will use the first order kinetic energy equation. It is the equation obtained by doing the scalar product between the momentum equation and the velocity vector ${\\mathbf{v}}=(\\dot{\\mathbf{X}}+\\mathbf{V}).$ When doing this and multiplying by $\\sigma^{(0)}/w_0^{(0)}$ we get the following symmetric part of the kinetic energy equation at first order:"
   ]
  },
  {
   "cell_type": "markdown",
   "metadata": {},
   "source": [
    "$$\\sigma^{(0)} u^{(1)}_c v^{(0)} \\left(\\frac{ v^{(0)}}  {w^{(0)}} \\frac{\\partial v^{(0)}}{\\partial {\\bar{r}}} + \\frac{\\partial w^{(0)}}{\\partial {\\bar{r}}} + \\frac{1}{w^{(0)}} \\frac{\\partial\\ p^{(0)}}{\\partial {\\bar{r}}} \\right)+ v^{(0)} \\frac{\\partial v^{(0)}}{\\partial s} + w^{(0)} \\frac{\\partial w^{(0)}}{\\partial s} + \\frac{\\partial p^{(0)}}{\\partial s}+ {\\alpha} \\tilde{T}^{(0)} \\sigma^{(0)} z_\\text{t}^{(0)}=0$$"
   ]
  },
  {
   "cell_type": "markdown",
   "metadata": {},
   "source": [
    "Let's notice that \n",
    "$$\\int_{\\mathcal{S}}^{[0,s]} \\bar{\\tilde{T}}^{(0)}(\\bar{M},t)\\sigma^{(0)}(s',t) z_\\text{t}^{(0)}(s',t)ds'$$\n",
    "is the solution to\n",
    "$$D_s\\left(\\int_{\\mathcal{S}}^{[0,s]} \\bar{\\tilde{T}}^{(0)}(\\bar{M},t)\\sigma^{(0)}(s',t) z_\\text{t}^{(0)}(s',t)ds'\\right)=\\tilde{T}^{(0)} \\sigma^{(0)} z_\\text{t}^{(0)}$$\n",
    "\n",
    "As $D_s(\\bar{\\tilde{T}}^{(0)}) = 0$, that is to say $\\bar{\\tilde{T}}^{(0)}=\\bar{\\tilde{T}}^{(0)}(\\bar{M},t)$ we can  factorise this term outside of the integral\n",
    "$$\n",
    "\\int_{\\mathcal{S}}^{[0,s]} \\bar{\\tilde{T}}^{(0)}(\\bar{M},t)\\sigma^{(0)}(s',t) z_\\text{t}^{(0)}(s',t)ds'= \\bar{\\tilde{T}}^{(0)}(\\bar{M},t)\\int_{\\mathcal{S}}^{[0,s]}\\sigma^{(0)}(s',t) z_\\text{t}^{(0)}(s',t)ds'=\\bar{\\tilde{T}}^{(0)}(\\bar{M},t)\\int_{0}^{s}\\sigma^{(0)}(s',t) z_\\text{t}^{(0)}(s',t)ds'= \\bar{\\tilde{T}}^{(0)}(\\bar{M},t) \\mathcal{Z}_c^{(0)}$$\n",
    "As $$\\sigma^{(0)} z_\\text{t}^{(0)} = \\sigma^{(0)} \\hat{\\mathbf{z}} \\cdot  \\hat{\\boldsymbol{\\tau}}^{(0)} = \\hat{\\mathbf{z}} \\cdot \\sigma^{(0)} \\hat{\\boldsymbol{\\tau}}^{(0)} = \\hat{\\mathbf{z}} \\cdot \\frac{\\partial{\\mathbf{X}^{(0)}(s,t)}}{\\partial s}$$\n",
    "it comes\n",
    "$$\\mathcal{Z}_c^{(0)}\n",
    "= \\hat{\\mathbf{z}} \\cdot \\left[\\mathbf{X}^{(0)}(s,t)-\\mathbf{X}^{(0)}(0,t)\\right]$$\n",
    "and we have $$D_s\\left(\\bar{\\tilde{T}}^{(0)}(\\bar{M},t)  \\hat{\\mathbf{z}} \\cdot \\left[\\mathbf{X}^{(0)}(s,t)-\\mathbf{X}^{(0)}(0,t)\\right]\\right)=\\tilde{T}^{(0)}(\\bar{M},t) \\sigma^{(0)} z_\\text{t}^{(0)}$$"
   ]
  },
  {
   "cell_type": "markdown",
   "metadata": {},
   "source": [
    "We define the **leading order total head** \n",
    "$${\\cal{H}}^{(0)}(\\bar{r},s,t)=p^{(0)}(\\bar{r},s,t)+\\left[{v^{(0)}(\\bar{r},s,t)}^2+{w^{(0)}(\\bar{r},s,t)}^2\\right]/2 + \\alpha \\bar{\\tilde{T}}^{(0)}(\\bar{M},t) \\mathcal{Z}_c^{(0)}$$\n"
   ]
  },
  {
   "cell_type": "markdown",
   "metadata": {},
   "source": [
    "Then compute $D_s(\\bar{\\cal{H}}^{(0)})$ where $$D_s=\\left(\\frac{\\partial}{\\partial s}\\right)_\\bar{r}+\\sigma^{(0)}u_c^{(1)}/w^{(0)}\\left(\\frac{\\partial}{\\partial \\bar{r}}\\right)_\\bar{r}$$\n",
    "\n",
    "We find $$D_s(\\bar{\\cal{H}}^{(0)})=\\sigma^{(0)} u^{(1)}_c v^{(0)} \\left(\\frac{ v^{(0)}}  {w^{(0)}} \\frac{\\partial v^{(0)}}{\\partial {\\bar{r}}} + \\frac{\\partial w^{(0)}}{\\partial {\\bar{r}}} + \\frac{1}{w^{(0)}} \\frac{\\partial\\ p^{(0)}}{\\partial {\\bar{r}}} \\right)+ v^{(0)} \\frac{\\partial v^{(0)}}{\\partial s} + w^{(0)} \\frac{\\partial w^{(0)}}{\\partial s} + \\frac{\\partial p^{(0)}}{\\partial s}+ {\\alpha} \\tilde{T}^{(0)} \\sigma^{(0)} z_\\text{t}^{(0)}$$\n",
    "and so \n",
    "$$D_s(\\bar{\\cal{H}}^{(0)})=0$$ which means ${\\cal{H}}^{(0)}(\\bar{r},s,t) = \\bar{\\cal{H}}^{(0)}(\\bar{M},s,t) = \\bar{\\cal{H}}^{(0)}(\\bar{M},t)=\\bar{\\cal{H}}^{(0)}(\\cal{M}(\\bar{r},s,t),t).$"
   ]
  },
  {
   "cell_type": "markdown",
   "metadata": {},
   "source": [
    "Remark: it is sometimes useful to define the following change of parameter on the center line by  $$\\tilde{s}=\\int_{0}^{s}\\sigma(s',t)ds$$"
   ]
  },
  {
   "cell_type": "markdown",
   "metadata": {},
   "source": [
    "**e) Sum up of the compatibility conditions at first order**"
   ]
  },
  {
   "cell_type": "markdown",
   "metadata": {},
   "source": [
    "We should find two fileds with axial variations ${v^{(0)}(\\bar{r},s,t)}$ and $w^{(0)}(\\bar{r},s,t)$ such that $\\cal{M}^{(0)}$ defined as \n",
    "$$ \\cal{M}^{(0)}(\\bar{r},s,t) = \\int_0^{\\bar{r}} w^{(0)}(\\bar{r},s,t) \\bar{r}' d\\bar{r}'$$\n",
    "satisfies:\n",
    "$$\\bar{\\cal{G}}^{(0)}(\\bar{M},s,t)=\\bar{\\cal{G}}^{(0)}(\\bar{M},t)$$\n",
    "$$\\bar{\\cal{H}}^{(0)}(\\bar{M},s,t) = \\bar{\\cal{H}}^{(0)}(\\bar{M},t)$$\n",
    "$$\\bar{\\tilde{T}}^{(0)}(\\bar{M},s,t)=\\bar{\\tilde{T}}^{(0)}(\\bar{M},t)$$\n",
    "where \n",
    "$$ \\cal{G}^{(0)}(\\bar{M},t)= \\bar{r} v^{(0)}$$\n",
    "$$\\bar{\\cal{H}}^{(0)}(\\bar{M},t)=p^{(0)}(\\bar{r},s,t)+\\left[{v^{(0)}(\\bar{r},s,t)}^2+{w^{(0)}(\\bar{r},s,t)}^2\\right]/2 + \\alpha \\bar{\\tilde{T}}^{(0)}(\\bar{M},t) \\mathcal{Z}_c^{(0)}$$\n",
    "$$p^{(0)}=-\\int_{\\bar{r}}^{\\infty}\\frac{(\\bar{\\cal{G}}^{(0)}(\\bar{M},t))^2}{\\bar{r}'^{3}}d\\bar{r}'$$\n",
    "$$\\mathcal{Z}_c^{(0)}\n",
    "= \\hat{\\mathbf{z}} \\cdot \\left[\\mathbf{X}^{(0)}(s,t)-\\mathbf{X}^{(0)}(0,t)\\right]$$\n",
    "and also the condition of a zero axial velocity at infinity."
   ]
  },
  {
   "cell_type": "markdown",
   "metadata": {},
   "source": [
    "So can we choose two functions $\\bar{\\cal{G}}^{(0)}(\\bar{M},t)$ and $\\bar{\\cal{H}}^{(0)}(\\bar{M},t)$ such that we can find a function $\\cal{M}^{(0)}(\\bar{r},s,t)$ that meets the equations and is with axial variation?\n",
    "If so what is the physical meaning of a solution "
   ]
  },
  {
   "cell_type": "markdown",
   "metadata": {},
   "source": [
    "**f) In case of no axial variation  and no buoyancy term  𝛼=0)**"
   ]
  },
  {
   "cell_type": "markdown",
   "metadata": {},
   "source": [
    "$$w^{(0)}(\\bar{r},s,t)=w^{(0)}(\\bar{r},t)$$\n",
    "$$v^{(0)}(\\bar{r},s,t)=v^{(0)}(\\bar{r},t)$$\n",
    "and so \n",
    "$$p^{(0)}(\\bar{r},s,t)=p^{(0)}(\\bar{r},t)$$\n",
    "$$\\cal{M}(\\bar{r},s,t)=\\cal{M}(\\bar{r},t)$$ \n",
    "$$\\left(\\frac{\\partial \\cal{M}}{\\partial s}\\right)_{\\bar{r}}=0$$\n",
    "$$D_s(\\bar{f_c})=\\left(\\frac{\\partial f_c}{\\partial s}\\right)_{\\bar{r}}$$\n",
    "$$\\int_{\\mathcal{S}}^{[s_1,s_2]}f ds=\\int_{s_1}^{s_2} f ds$$\n",
    "We so have \n",
    "$$D_s(\\bar{\\cal{G}}^{(0)})=\\left(\\frac{\\partial {\\cal{G}}^{(0)}}{\\partial s}\\right)_{\\bar{r}}=0$$\n",
    "$$D_s(\\bar{\\cal{H}}^{(0)})=\\left(\\frac{\\partial {\\cal{H}}^{(0)}}{\\partial s}\\right)_{\\bar{r}}=0$$\n",
    "that is to say \n",
    "$${\\cal{G}}^{(0)}(\\bar{r},s,t)={\\cal{G}}^{(0)}(\\bar{r},t)$$\n",
    "$${\\cal{H}}^{(0)}(\\bar{r},s,t)={\\cal{H}}^{(0)}(\\bar{r},t)$$\n",
    "which is OK as\n",
    "$$ {\\cal{G}}^{(0)}= \\bar{r} v^{(0)}(\\bar{r},t)$$\n",
    "$${\\cal{H}}^{(0)}=p^{(0)}(\\bar{r},t)+\\left[{v^{(0)}(\\bar{r},t)}^2+{w^{(0)}(\\bar{r},t)}^2\\right]/2$$\n"
   ]
  },
  {
   "cell_type": "code",
   "execution_count": null,
   "metadata": {},
   "outputs": [],
   "source": []
  },
  {
   "cell_type": "code",
   "execution_count": null,
   "metadata": {},
   "outputs": [],
   "source": []
  },
  {
   "cell_type": "markdown",
   "metadata": {},
   "source": [
    "# 17) Compatibility conditions at second order and the Von Mises transformation"
   ]
  },
  {
   "cell_type": "markdown",
   "metadata": {},
   "source": [
    "Let us define:\n",
    "$$\\cal{M}_c^{(1)}(\\bar{r},s,t) = \\int_0^{\\bar{r}} w_c^{(1)}(\\bar{r}',s,t) \\bar{r}' d\\bar{r}'$$\n",
    "that is in line with the expansion of $$\\cal{M}(\\bar{r},s,t) = \\int_0^{\\bar{r}} w(\\bar{r}',s,t) \\bar{r}' d\\bar{r}'$$\n",
    "\n",
    "$$ \\cal{G}_c^{(1)}= \\bar{r} v_c^{(1)}$$ that is in line with the expansion of $$ \\cal{G}= \\bar{r} v$$"
   ]
  },
  {
   "cell_type": "markdown",
   "metadata": {},
   "source": [
    "**a) Symmetrical continuity equation at second order**"
   ]
  },
  {
   "cell_type": "markdown",
   "metadata": {},
   "source": [
    "It is\n",
    "$$ \\sigma^{(0)} \\frac{\\partial {\\bar{r}}u^{(2)}_c}{\\partial {\\bar{r}}}  +  \\sigma^{(1)} \\frac{\\partial {\\bar{r}} u^{(1)}_c}{\\partial {\\bar{r}}}  + {\\bar{r}} \\frac{\\partial w^{(1)}_c}{\\partial s} + \\bar{r} \\left(\\dot{\\mathbf{X}}^{(0)}_s\\cdot\\hat{ \\tau}^{(0)}\\right)= \\sigma^{(0)} \\mathcal{K}^{(0)} \\frac{1}{2} \\frac{\\partial \\bar{r} \\psi^{(1)}_{12}}{\\partial {\\bar{r}}}$$"
   ]
  },
  {
   "cell_type": "markdown",
   "metadata": {},
   "source": [
    "Integrated in $\\bar{r}$ it gives:\n",
    "$$ \\sigma^{(0)} \\bar{r}u^{(2)}_c  +  \\sigma^{(1)} \\bar{r} u^{(1)}_c  + \\frac{\\partial \\mathcal{M}_c^{(1)}}{\\partial s} + \\frac{\\bar{r}^2}{2} \\left(\\dot{\\mathbf{X}}^{(0)}_s\\cdot\\hat{ \\tau}^{(0)}\\right)= \\sigma^{(0)} \\mathcal{K}^{(0)} \\frac{1}{2} \\bar{r} \\psi^{(1)}_{12}$$"
   ]
  },
  {
   "cell_type": "markdown",
   "metadata": {},
   "source": [
    "$$u^{(2)}_c = \\frac{1}{\\sigma^{(0)}\\bar{r}}  (-\\sigma^{(1)} \\bar{r} u^{(1)}_c  - \\frac{\\partial \\mathcal{M}_c^{(1)}}{\\partial s} - \\frac{\\bar{r}^2}{2}  \\left(\\dot{\\mathbf{X}}^{(0)}_s\\cdot\\hat{ \\tau}^{(0)}\\right) + \\sigma^{(0)} \\mathcal{K}^{(0)} \\frac{1}{2} \\bar{r} \\psi^{(1)}_{12})$$\n",
    "$$w_c^{(1)} = \\frac{1}{\\bar{r}} \\left(\\frac{\\partial \\cal{M}^{(1)}}{\\partial \\bar{r}}\\right)_s$$"
   ]
  },
  {
   "cell_type": "markdown",
   "metadata": {},
   "source": [
    "**b) The symmetrical part of the circumferential component of NS equation at second order**"
   ]
  },
  {
   "cell_type": "markdown",
   "metadata": {},
   "source": [
    "$$ u^{(2)}_c \\zeta^{(0)}  + u^{(1)}_c \\frac{1}{\\bar{r}}\\frac{\\partial {\\bar{r}} v^{(1)}_c}{\\partial {\\bar{r}}} +\n",
    "\\frac{1}{\\sigma^{(0)}}\\left(\\left[w^{(1)}_c  - \\frac{\\sigma^{(1)}}{{\\sigma^{(0)}}} w^{(0)}\\right]\n",
    "\\frac{\\partial v^{(0)}}{\\partial s}  + w^{(0)}\\frac{\\partial v^{(1)}_c}{\\partial s} \\right) \n",
    "= - \\frac{\\partial v^{(0)}}{\\partial t} + \\frac{1}{2} \\mathcal{K}^{(0)} \\psi^{(1)}_{12} \\zeta^{(0)} +\\bar{\\nu} \\frac{\\partial\\zeta^{(0)}}{\\partial {\\bar{r}}} $$"
   ]
  },
  {
   "cell_type": "markdown",
   "metadata": {},
   "source": [
    "We replace $v^{(0)}, v_c^{(1)}$ and multiply by $\\bar{r}$ and get"
   ]
  },
  {
   "cell_type": "markdown",
   "metadata": {},
   "source": [
    "$$ u^{(2)}_c \\frac{\\partial {\\cal{G}}^{(0)}}{\\partial {\\bar{r}}}  +  u^{(1)}_c \\frac{\\partial {\\cal{G}}_c^{(1)}}{\\partial {\\bar{r}}} +\\frac{1}{\\sigma^{(0)}}\\left( [w^{(1)}_c - \\frac{\\sigma^{(1)} }{\\sigma^{(0)}} w^{(0)} ] \\frac{\\partial {\\cal{G}}^{(0)}}{\\partial s}+ w^{(0)} \\frac{\\partial {\\cal{G}}_c^{(1)}}{\\partial s}    \\right)\n",
    "=  - \\frac{\\partial {\\cal{G}}^{(0)}}{\\partial t} + \\frac{1}{2}  \\mathcal{K}^{(0)} \\psi^{(1)}_{12} \\frac{\\partial {\\cal{G}}^{(0)}}{\\partial {\\bar{r}}}+ {\\bar{\\nu}} \\left(\\frac{\\partial^2 {\\cal{G}}^{(0)}}{\\partial {\\bar{r}}^ 2} -\\frac{1}{\\bar{r}}\\frac{\\partial {\\cal{G}}^{(0)}}{\\partial \\bar{r}}\\right) $$"
   ]
  },
  {
   "cell_type": "markdown",
   "metadata": {},
   "source": [
    "Remark:\n",
    "If we multiply by $\\bar{r}$ the symmetric part of the Circumferential component of NS at first order\n",
    "$$\\zeta^{(0)} u^{(1)}_c  + \\frac{w^{(0)}}{\\sigma^{(0)}} \\frac{\\partial v^{(0)}}{\\partial s} = 0$$\n",
    "we get \n",
    "$$ \\frac{\\partial {\\cal{G}}^{(0)}}{\\partial {\\bar{r}}} u^{(1)}_c  + \\frac{w^{(0)}}{\\sigma^{(0)}} \\frac{\\partial G^{(0)}}{\\partial s} = 0$$\n",
    "and so  $$ -\\frac{w^{(0)}}{\\sigma^{(0)}} \\frac{\\partial G^{(0)}}{\\partial s}= \\frac{\\partial {\\cal{G}}^{(0)}}{\\partial {\\bar{r}}} u^{(1)}_c $$\n",
    "So we also can write the equation\n",
    "$$ \\left(u^{(2)}_c + \\frac{\\sigma^{(1)}}{\\sigma^{(0)}} u^{(1)}_c\\right) \\frac{\\partial {\\cal{G}}^{(0)}}{\\partial {\\bar{r}}}  +  u^{(1)}_c \\frac{\\partial {\\cal{G}}_c^{(1)}}{\\partial {\\bar{r}}} +\\frac{1}{\\sigma^{(0)}}\\left(w^{(1)}_c \\frac{\\partial {\\cal{G}}^{(0)}}{\\partial s}+ w^{(0)} \\frac{\\partial {\\cal{G}}_c^{(1)}}{\\partial s}    \\right)\n",
    "=  - \\frac{\\partial {\\cal{G}}^{(0)}}{\\partial t} + \\frac{1}{2}  \\mathcal{K}^{(0)} \\psi^{(1)}_{12} \\frac{\\partial {\\cal{G}}^{(0)}}{\\partial {\\bar{r}}}+ {\\bar{\\nu}} \\left(\\frac{\\partial^2 {\\cal{G}}^{(0)}}{\\partial {\\bar{r}}^ 2} -\\frac{1}{\\bar{r}}\\frac{\\partial {\\cal{G}}^{(0)}}{\\partial \\bar{r}}\\right) $$\n",
    "It is the equation (14) of Klein/Ting."
   ]
  },
  {
   "cell_type": "markdown",
   "metadata": {},
   "source": [
    "It can be written\n",
    "$$\\frac{1}{\\sigma^{(0)}}w^{(0)}(\\bar{r},s,t) D_s\\left[\\bar{\\cal{G}}_c^{(1)} + D_{\\bar{M}}\\left[\\bar{\\cal{G}}^{(0)}(\\bar{M},t)\\right] \\bar{\\cal{M}}_c^{(1)}\\right] = \\frac{1}{\\sigma^{(0)}}\\frac{\\bar{r}}{2} \\left[\\dot{\\mathbf{X}}^{(0)}_s\\cdot\\hat{ \\tau}^{(0)}\\right] \\frac{\\partial {\\cal{G}}^{(0)}}{\\partial {\\bar{r}}} + \\bar{\\nu}  \\left[\\frac{\\partial^2 {\\cal{G}}^{(0)}}{\\partial {\\bar{r}} ^ 2} - \\frac{1}{\\bar{r}} \\frac{\\partial {\\cal{G}}^{(0)}}{\\partial \\bar{r}} \\right] -  \\frac{\\partial {\\cal{G}}^{(0)}}{\\partial t}$$"
   ]
  },
  {
   "cell_type": "markdown",
   "metadata": {},
   "source": [
    "This is equation (15) of Klein/Ting"
   ]
  },
  {
   "cell_type": "markdown",
   "metadata": {},
   "source": [
    "By integrating on $s$ in case of a periodicity in $s$:\n",
    "$$\\int_{\\mathcal{S}}^{[0,s_f]} \\frac{\\sigma^{(0)}}{w^{(0)}} \\left(-  \\frac{\\partial {\\cal{G}}^{(0)}}{\\partial t} + \\frac{1}{\\sigma^{(0)}} \\frac{\\bar{r}}{2} \\left[\\dot{\\mathbf{X}}^{(0)}_s\\cdot\\hat{ \\tau}^{(0)}\\right] \\frac{\\partial\\,{\\cal{G}}^{(0)}}{\\partial {\\bar{r}}} + \\bar{\\nu}  \\left[\\frac{\\partial^2 {\\cal{G}}^{(0)}}{\\partial {\\bar{r}} ^ 2} - \\frac{1}{\\bar{r}} \\frac{\\partial {\\cal{G}}^{(0)}}{\\partial \\bar{r}} \\right] \\right)ds=0$$"
   ]
  },
  {
   "cell_type": "markdown",
   "metadata": {},
   "source": [
    "where $s_f$ is the abscisse period of the closed curve."
   ]
  },
  {
   "cell_type": "markdown",
   "metadata": {},
   "source": [
    "Let's remark that $$\\dot{\\mathbf{X}}^{(0)}_s\\cdot\\hat{ \\tau}^{(0)}= \\dot{\\sigma}^{(0)}$$\n",
    "as $\\hat{\\tau} \\cdot \\hat{\\tau}=0$ gives $2\\dot{\\hat{ \\tau}} \\cdot \\hat{ \\tau}=0$ and $\\mathbf{X}_s^{(0)}= {\\sigma}^{(0)}\\hat{ \\tau}^{(0)} $"
   ]
  },
  {
   "cell_type": "markdown",
   "metadata": {},
   "source": [
    "Is it interesting to write it in ${\\zeta}^{(0)}$ as when it is without axial variation ?"
   ]
  },
  {
   "cell_type": "markdown",
   "metadata": {},
   "source": [
    "Remark: The right hand side can also be re-written and we have the equation\n",
    "$$\\frac{1}{\\sigma^{(0)}}w^{(0)}(\\bar{r},s,t) D_s\\left[\\bar{\\cal{G}}_c^{(1)} + D_{\\bar{M}}\\left[\\bar{\\cal{G}}^{(0)}(\\bar{M},t)\\right] \\bar{\\cal{M}}_c^{(1)}\\right] =  \n",
    "\\frac{1}{{\\sigma^{(0)}}} \\frac{\\bar{r}^2}{2} w^{(0)}\\left[\\dot{\\mathbf{X}}^{(0)}_s\\cdot\\hat{ \\tau}^{(0)}\\right] \\mathrm{D}_{\\bar{M}}\\left({\\cal{G}}^{(0)}(\\bar{M},t)\\right)\n",
    "+\\bar{\\nu} \\left[\\bar{r}^{2}  (w^{(0)})^2 \\mathrm{D}_{\\bar{M} \\bar{M}}\\left({\\cal{G}}^{(0)}(\\bar{M},t)\\right)  + \\bar{r} \\mathrm{D}_{\\bar{M}}\\left({\\cal{G}}^{(0)}(\\bar{M},t)\\right) \\frac{\\partial w^{(0)}}{\\partial {\\bar{r}}} \\right] -  \\mathrm{D}_{\\bar{M}}\\left({\\cal{G}}^{(0)}(\\bar{M},t)\\right) \\frac{\\partial}{\\partial t}{\\cal{M}}^{(0)} -  \\mathrm{D}_{t}\\left({\\cal{G}}^{(0)}(\\bar{M},t)\\right)$$"
   ]
  },
  {
   "cell_type": "markdown",
   "metadata": {},
   "source": [
    "And the integration in case of closed filament gives:\n",
    "$$\\frac{1}{2}\\mathrm{D}_{\\bar{M}}\\left({\\cal{G}}^{(0)}(\\bar{M},t)\\right) \\int_{\\mathcal{S}}^{[0,s_f]}\\bar{r}^2 \\dot{\\sigma}^{(0)}ds +\\bar{\\nu}\\mathrm{D}_{\\bar{M} \\bar{M}}\\left({\\cal{G}}^{(0)}(\\bar{M},t)\\right)\\int_{\\mathcal{S}}^{[0,s_f]}\\sigma^{(0)}\n",
    "\\bar{r}^{2}  w^{(0)}  ds +\\bar{\\nu}\\mathrm{D}_{\\bar{M}}\\left({\\cal{G}}^{(0)}(\\bar{M},t)\\right)\\int_{\\mathcal{S}}^{[0,s_f]}\\frac{\\sigma^{(0)}}{w^{(0)}} \n",
    "\\left(\\bar{r}  \\frac{\\partial w^{(0)}}{\\partial {\\bar{r}}} \\right) ds - \\mathrm{D}_{\\bar{M}}\\left({\\cal{G}}^{(0)}(\\bar{M},t)\\right)\\int_{\\mathcal{S}}^{[0,s_f]}\\frac{\\sigma^{(0)}}{w^{(0)}} \n",
    "\\left(  \\frac{\\partial}{\\partial t}{\\cal{M}}^{(0)} \\right) ds -  \\mathrm{D}_{t}\\left({\\cal{G}}^{(0)}(\\bar{M},t)\\right)\\int_{\\mathcal{S}}^{[0,s_f]}\\frac{\\sigma^{(0)}}{w^{(0)}} \n",
    " ds=0$$"
   ]
  },
  {
   "cell_type": "markdown",
   "metadata": {},
   "source": [
    "In case of **no axial variation** \n",
    "$$w^{(0)}(\\bar{r},s,t)=w^{(0)}(\\bar{r},t)$$\n",
    "$$v^{(0)}(\\bar{r},s,t)=v^{(0)}(\\bar{r},t)$$\n",
    "and so $$\\cal{M}(\\bar{r},s,t)=\\cal{M}(\\bar{r},t)$$ \n",
    "$$\\left(\\frac{\\partial \\cal{M}}{\\partial s}\\right)_{\\bar{r}}=0$$\n",
    "$$D_s(\\bar{f_c})=\\left(\\frac{\\partial f_c}{\\partial s}\\right)_{\\bar{r}}$$\n",
    "$$ \\cal{G}^{(0)}= \\bar{r} v^{(0)}(\\bar{r},t)$$\n",
    "$$\\int_{\\mathcal{S}}^{[s_1,s_2]}f ds=\\int_{s_1}^{s_2} f ds$$"
   ]
  },
  {
   "cell_type": "markdown",
   "metadata": {},
   "source": [
    "The intergral becomes\n",
    "$$\\int_{0}^{s_f} \\frac{\\sigma^{(0)}}{w^{(0)}} \\left(-  \\frac{\\partial {\\cal{G}}^{(0)}}{\\partial t} + \\frac{1}{\\sigma^{(0)}} \\frac{\\bar{r}}{2} \\dot{\\sigma}^{(0)} \\frac{\\partial\\,{\\cal{G}}^{(0)}}{\\partial {\\bar{r}}} + \\bar{\\nu}  \\left[\\frac{\\partial^2 {\\cal{G}}^{(0)}}{\\partial {\\bar{r}} ^ 2} - \\frac{1}{\\bar{r}} \\frac{\\partial {\\cal{G}}^{(0)}}{\\partial \\bar{r}} \\right] \\right)ds=0$$"
   ]
  },
  {
   "cell_type": "markdown",
   "metadata": {},
   "source": [
    "$$\\left(-  \\frac{\\partial {\\cal{G}}^{(0)}}{\\partial t}  + \\bar{\\nu}  \\left[\\frac{\\partial^2 {\\cal{G}}^{(0)}}{\\partial {\\bar{r}} ^ 2} - \\frac{1}{\\bar{r}} \\frac{\\partial {\\cal{G}}^{(0)}}{\\partial \\bar{r}} \\right] \\right) \\int_{0}^{s_f} \\sigma^{(0)}ds + \\frac{\\bar{r}}{2}  \\frac{\\partial {\\cal{G}}^{(0)}}{\\partial {\\bar{r}}}\\int_{0}^{s_f} \\dot{\\sigma}^{(0)}  ds =0$$\n",
    "\n",
    "And so\n",
    "$$\\left(-  \\frac{\\partial {\\cal{G}}^{(0)}}{\\partial t}  + \\bar{\\nu}  \\left[\\frac{\\partial^2 {\\cal{G}}^{(0)}}{\\partial {\\bar{r}} ^ 2} - \\frac{1}{\\bar{r}} \\frac{\\partial {\\cal{G}}^{(0)}}{\\partial \\bar{r}} \\right] \\right) + \\frac{\\bar{r}}{2}  \\frac{\\partial {\\cal{G}}^{(0)}}{\\partial {\\bar{r}}} \\frac{\\dot{S}(t)}{S(t)} =0$$\n",
    "as \n",
    "$$\\int_{0}^{s_f} \\sigma^{(0)}ds=S(t)$$ \n",
    "where $S(t)$ is the length of the filament.\n",
    "\n",
    "Remark: \n",
    "$$\\frac{\\partial^2 {\\cal{G}}^{(0)}}{\\partial {\\bar{r}} ^ 2} - \\frac{1}{\\bar{r}} \\frac{\\partial {\\cal{G}}^{(0)}}{\\partial \\bar{r}} =  {\\bar{r}} \\frac{\\partial^2 v^{(0)}}{\\partial \\bar{r}^2} + \\frac{\\partial v^{(0)}}{\\partial \\bar{r}} - \\frac{v^{(0)}}{{\\bar{r}}} = \\frac{ \\partial(\\bar{r}\\frac{\\partial v^{(0)}}{\\partial {\\bar{r}}})}{{\\partial {\\bar{r}}}} - \\frac{v^{(0)}}{{\\bar{r}}}= {\\bar{r}}\\frac{\\partial\\zeta^{(0)}}{\\partial {\\bar{r}}}$$\n",
    "\n",
    "Remark:\n",
    "As $$\\zeta^{(0)}=\\frac{1}{\\bar{r}}\\frac{\\partial \\cal{G}^{(0)}}{\\partial \\bar{r}}$$\n",
    "the equation can be written (in derirving by $\\bar{r}$)\n",
    "$$-  \\frac{\\partial \\zeta^{(0)}}{\\partial t}  + \\bar{\\nu}  \\frac{1}{\\bar{r}} \\frac{\\partial (\\bar{r}\\frac{\\partial \\zeta^{(0)}}{\\partial {\\bar{r}}})}{{\\partial {\\bar{r}}}} + \\frac{1}{2} \\frac{1}{\\bar{r}} \\frac{\\partial (\\bar{r}^2{\\zeta^{(0)}})}{\\partial {\\bar{r}}} \\frac{\\dot{S}(t)}{S(t)} =0$$"
   ]
  },
  {
   "cell_type": "markdown",
   "metadata": {},
   "source": [
    "**c) The internal energy equation at second order**"
   ]
  },
  {
   "cell_type": "markdown",
   "metadata": {},
   "source": [
    "$$\\frac{\\partial T^{(0)}}{\\partial \\bar{r}} u^{(2)}_c + \\frac{w^{(0)}}{\\sigma^{(0)}} \\frac{\\partial T^{(1)}_c}{\\partial s} + \\frac{1}{\\sigma^{(0)}} \\frac{\\partial T^{(0)}}{\\partial s}{w^{(1)}_c} + \\frac{\\partial T^{(1)}_c}{\\partial \\bar{r}} u^{(1)}_c +\\frac{\\partial T^{(0)}}{\\partial t} - \\frac{\\sigma^{(1)}}{(\\sigma^{(0)})^2} w^{(0)} \\frac{\\partial T^{(0)}}{\\partial s}\\\\ \n",
    " = \\frac{1}{2} \\, \\mathcal{K}^{(0)} \\alpha z_\\text{b}^{(0)} v^{(0)} I \\frac{\\partial\\,T^{(0)}}{\\partial {\\bar{r}}} +  \\bar{\\eta}\\left( \\frac{\\partial^2 T^{(0)}}{\\partial {\\bar{r}^2}} + \\frac{1}{\\bar{r}}  \\frac{\\partial T^{(0)}}{\\partial \\bar{r}}  \\right)$$"
   ]
  },
  {
   "cell_type": "markdown",
   "metadata": {},
   "source": [
    "To be done "
   ]
  },
  {
   "cell_type": "code",
   "execution_count": null,
   "metadata": {},
   "outputs": [],
   "source": []
  },
  {
   "cell_type": "markdown",
   "metadata": {},
   "source": [
    "**c) The symmetrical mechanical kinetic energy equation at second order**"
   ]
  },
  {
   "cell_type": "markdown",
   "metadata": {},
   "source": [
    "$$u_c^{(2)}\\frac{\\partial \\mathcal{H}^{(0)}}{\\partial\\bar{r}} +u_c^{(1)}\\frac{\\partial\\mathcal{H}^{(1)}_c}{\\partial\\bar{r}} + \\frac{w^{(0)}}{\\sigma^{(0)}}\\frac{\\partial\\mathcal{H}^{(1)}_c}{\\partial s}+ \\frac{\\sigma^{(1)}}{\\sigma^{(0)}}u_c^{(1)}\\frac{\\partial\\mathcal{H}^{(0)}}{\\partial \\bar{r}}  + \\frac{w_c^{(1)}}{\\sigma^{(0)}}\\frac {\\partial  \\mathcal{H}^{(0)}}{\\partial s}+\\frac{\\partial \\mathcal{H}^{(0)}}{\\partial t}-\\frac{\\partial \\mathcal{p}^{(0)}}{\\partial t} + \\left[\\frac{\\partial \\dot{\\mathbf{X}}^{(0)}}{\\partial s}\\cdot\\hat{\\tau}^{(0)}\\right] \\frac{\\left(w^{(0)}\\right)^2}{\\sigma^{(0)}} = \\alpha T^{(0)} \\frac{\\partial \\mathcal{Z}_c^{(0)}(s,t)}{\\partial t}+ \\bar{\\nu} \\left[\\frac{\\mathcal{G}^{(0)}}{\\bar{r}^2}\\left(\\mathcal{G}^{(0)}_{\\bar{r}\\bar{r}}-\\frac{\\mathcal{G}^{(0)}_{\\bar{r}}}{\\bar{r}}\\right)+ \\frac{w^{(0)}}{\\bar{r}}\\left(\\bar{r}w^{(0)}_{\\bar{r}}\\right)_{\\bar{r}}\\right] +\\frac{\\alpha}{2\\bar{r}} \\mathcal{K}^{(0)} z_b^{(0)} \\mathcal{G}^{(0)} I  \\frac{\\partial \\mathcal{H}^{(0)}}{\\partial \\bar{r}}+ \\alpha \\bar{\\eta} \\mathcal{Z}_c^{(0)}(s,t) \\left(\\frac{\\partial^2 T^{(0)}}{\\partial\\bar{r}^2}+\\frac{1}{\\bar{r}} \\frac{\\partial T^{(0)}}{\\partial\\bar{r}}\\right)$$\n",
    "\n"
   ]
  },
  {
   "cell_type": "markdown",
   "metadata": {},
   "source": []
  },
  {
   "cell_type": "code",
   "execution_count": null,
   "metadata": {},
   "outputs": [],
   "source": []
  },
  {
   "cell_type": "markdown",
   "metadata": {},
   "source": [
    "In case of **no axial variation** \n",
    "$$w^{(0)}(\\bar{r},s,t)=w^{(0)}(\\bar{r},t)$$\n",
    "$$v^{(0)}(\\bar{r},s,t)=v^{(0)}(\\bar{r},t)$$\n",
    "and so $$\\cal{M}(\\bar{r},s,t)=\\cal{M}(\\bar{r},t)$$ \n",
    "$$\\left(\\frac{\\partial \\cal{M}}{\\partial s}\\right)_{\\bar{r}}=0$$\n",
    "$$D_s(\\bar{f_c})=\\left(\\frac{\\partial f_c}{\\partial s}\\right)_{\\bar{r}}$$\n",
    "$$ \\cal{G}^{(0)}= \\bar{r} v^{(0)}(\\bar{r},t)$$\n",
    "$$\\int_{\\mathcal{S}}^{[s_1,s_2]}f ds=\\int_{s_1}^{s_2} f ds$$"
   ]
  },
  {
   "cell_type": "markdown",
   "metadata": {},
   "source": []
  },
  {
   "cell_type": "code",
   "execution_count": null,
   "metadata": {},
   "outputs": [],
   "source": []
  },
  {
   "cell_type": "code",
   "execution_count": null,
   "metadata": {},
   "outputs": [],
   "source": []
  },
  {
   "cell_type": "code",
   "execution_count": null,
   "metadata": {},
   "outputs": [],
   "source": []
  },
  {
   "cell_type": "code",
   "execution_count": null,
   "metadata": {},
   "outputs": [],
   "source": []
  },
  {
   "cell_type": "code",
   "execution_count": null,
   "metadata": {},
   "outputs": [],
   "source": []
  }
 ],
 "metadata": {
  "kernelspec": {
   "display_name": "SageMath 9.3",
   "language": "sage",
   "name": "sagemath"
  },
  "language_info": {
   "codemirror_mode": {
    "name": "ipython",
    "version": 3
   },
   "file_extension": ".py",
   "mimetype": "text/x-python",
   "name": "python",
   "nbconvert_exporter": "python",
   "pygments_lexer": "ipython3",
   "version": "3.7.10"
  }
 },
 "nbformat": 4,
 "nbformat_minor": 4
}
